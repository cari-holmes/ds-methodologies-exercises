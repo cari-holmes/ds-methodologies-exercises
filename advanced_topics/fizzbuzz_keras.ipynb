{
 "cells": [
  {
   "cell_type": "code",
   "execution_count": 1,
   "metadata": {},
   "outputs": [
    {
     "name": "stderr",
     "output_type": "stream",
     "text": [
      "Using TensorFlow backend.\n"
     ]
    }
   ],
   "source": [
    "\n",
    "import warnings\n",
    "warnings.filterwarnings('ignore')\n",
    "\n",
    "# imports\n",
    "import numpy as np\n",
    "from keras.models import Sequential\n",
    "from keras.layers import Dense\n",
    "from keras.utils import np_utils\n",
    "from keras.models import Model"
   ]
  },
  {
   "cell_type": "code",
   "execution_count": 2,
   "metadata": {},
   "outputs": [],
   "source": [
    "# specify the number of binary digits\n",
    "NUM_DIGITS = 10"
   ]
  },
  {
   "cell_type": "code",
   "execution_count": 3,
   "metadata": {},
   "outputs": [],
   "source": [
    "# setup the training data for 101-1024. 1024 is the highest number countable with 10 binary digits\n",
    "raw_training_data = np.array(range(101, 2**NUM_DIGITS))"
   ]
  },
  {
   "cell_type": "code",
   "execution_count": 4,
   "metadata": {},
   "outputs": [
    {
     "data": {
      "text/plain": [
       "array([101, 102, 103, 104, 105, 106, 107, 108, 109, 110, 111, 112, 113,\n",
       "       114, 115, 116, 117, 118, 119, 120])"
      ]
     },
     "execution_count": 4,
     "metadata": {},
     "output_type": "execute_result"
    }
   ],
   "source": [
    "# this is a numpy array of integers\n",
    "raw_training_data[0:20]"
   ]
  },
  {
   "cell_type": "code",
   "execution_count": 5,
   "metadata": {},
   "outputs": [],
   "source": [
    "# we need to binary encode our inputs \n",
    "def binary_encode(i, NUM_DIGITS):\n",
    "    return np.array([i >> d & 1 for d in range(NUM_DIGITS)])"
   ]
  },
  {
   "cell_type": "code",
   "execution_count": 10,
   "metadata": {},
   "outputs": [
    {
     "data": {
      "text/plain": [
       "array([1, 1, 1, 1, 1, 1, 1, 1, 1, 1])"
      ]
     },
     "execution_count": 10,
     "metadata": {},
     "output_type": "execute_result"
    }
   ],
   "source": [
    "binary_encode(1023, NUM_DIGITS)"
   ]
  },
  {
   "cell_type": "code",
   "execution_count": 11,
   "metadata": {},
   "outputs": [
    {
     "data": {
      "text/plain": [
       "array([1, 0, 1, 0, 0, 1, 1, 0, 0, 0])"
      ]
     },
     "execution_count": 11,
     "metadata": {},
     "output_type": "execute_result"
    }
   ],
   "source": [
    "encoded_training_data = [binary_encode(i, NUM_DIGITS) for i in raw_training_data]\n",
    "x_train = np.array(encoded_training_data)\n",
    "x_train[0]"
   ]
  },
  {
   "cell_type": "code",
   "execution_count": 12,
   "metadata": {},
   "outputs": [
    {
     "name": "stdout",
     "output_type": "stream",
     "text": [
      "[1 0 0 0 0 0 0 0 0 0]\n",
      "[0 1 0 0 0 0 0 0 0 0]\n",
      "[1 1 0 0 0 0 0 0 0 0]\n"
     ]
    }
   ],
   "source": [
    "print(binary_encode(1, NUM_DIGITS))\n",
    "print(binary_encode(2, NUM_DIGITS))\n",
    "print(binary_encode(3, NUM_DIGITS))"
   ]
  },
  {
   "cell_type": "code",
   "execution_count": 13,
   "metadata": {},
   "outputs": [],
   "source": [
    "# Now we'll need to one hot encode the training data for y\n",
    "def fizz_buzz_encode(i):\n",
    "    if i % 15 == 0:\n",
    "        return np.array([0, 0, 0, 1]) # encoding for \"fizzbuzz\"\n",
    "    elif i % 5 == 0: \n",
    "        return np.array([0, 0, 1, 0]) # encoding for \"buzz\"\n",
    "    elif i % 3  == 0: \n",
    "        return np.array([0, 1, 0, 0]) # encoding for \"fizz\"\n",
    "    else:\n",
    "        return np.array([1, 0, 0, 0]) # encoding for the number output"
   ]
  },
  {
   "cell_type": "code",
   "execution_count": 14,
   "metadata": {},
   "outputs": [],
   "source": [
    "# y_train is the encoded output. \n",
    "# This is our \"labeled data\" for supervised learning\n",
    "y_train = np.array([fizz_buzz_encode(i) for i in range(101, 2 ** NUM_DIGITS)])"
   ]
  },
  {
   "cell_type": "code",
   "execution_count": 15,
   "metadata": {},
   "outputs": [
    {
     "name": "stdout",
     "output_type": "stream",
     "text": [
      "WARNING:tensorflow:From /usr/local/anaconda3/lib/python3.7/site-packages/keras/backend/tensorflow_backend.py:74: The name tf.get_default_graph is deprecated. Please use tf.compat.v1.get_default_graph instead.\n",
      "\n"
     ]
    }
   ],
   "source": [
    "# Now let's build our model, add layers, compile, and fit it!\n",
    "model = Sequential()"
   ]
  },
  {
   "cell_type": "code",
   "execution_count": 16,
   "metadata": {},
   "outputs": [
    {
     "name": "stdout",
     "output_type": "stream",
     "text": [
      "WARNING:tensorflow:From /usr/local/anaconda3/lib/python3.7/site-packages/keras/backend/tensorflow_backend.py:517: The name tf.placeholder is deprecated. Please use tf.compat.v1.placeholder instead.\n",
      "\n",
      "WARNING:tensorflow:From /usr/local/anaconda3/lib/python3.7/site-packages/keras/backend/tensorflow_backend.py:4138: The name tf.random_uniform is deprecated. Please use tf.random.uniform instead.\n",
      "\n"
     ]
    }
   ],
   "source": [
    "## Add the model's layers. \n",
    "model.add(Dense(1000, input_dim=NUM_DIGITS, activation=\"relu\"))\n",
    "model.add(Dense(1000, activation=\"relu\"))\n",
    "model.add(Dense(4, activation=\"softmax\"))"
   ]
  },
  {
   "cell_type": "code",
   "execution_count": 17,
   "metadata": {},
   "outputs": [
    {
     "name": "stdout",
     "output_type": "stream",
     "text": [
      "WARNING:tensorflow:From /usr/local/anaconda3/lib/python3.7/site-packages/keras/optimizers.py:790: The name tf.train.Optimizer is deprecated. Please use tf.compat.v1.train.Optimizer instead.\n",
      "\n",
      "WARNING:tensorflow:From /usr/local/anaconda3/lib/python3.7/site-packages/keras/backend/tensorflow_backend.py:3295: The name tf.log is deprecated. Please use tf.math.log instead.\n",
      "\n"
     ]
    }
   ],
   "source": [
    "model.compile(loss='categorical_crossentropy', optimizer='adagrad', metrics=[\"accuracy\"])"
   ]
  },
  {
   "cell_type": "code",
   "execution_count": 18,
   "metadata": {},
   "outputs": [
    {
     "name": "stdout",
     "output_type": "stream",
     "text": [
      "WARNING:tensorflow:From /usr/local/anaconda3/lib/python3.7/site-packages/tensorflow/python/ops/math_grad.py:1250: add_dispatch_support.<locals>.wrapper (from tensorflow.python.ops.array_ops) is deprecated and will be removed in a future version.\n",
      "Instructions for updating:\n",
      "Use tf.where in 2.0, which has the same broadcast rule as np.where\n",
      "WARNING:tensorflow:From /usr/local/anaconda3/lib/python3.7/site-packages/keras/backend/tensorflow_backend.py:986: The name tf.assign_add is deprecated. Please use tf.compat.v1.assign_add instead.\n",
      "\n",
      "Epoch 1/100\n",
      "923/923 [==============================] - 1s 850us/step - loss: 2.1466 - acc: 0.4453\n",
      "Epoch 2/100\n",
      "923/923 [==============================] - 0s 118us/step - loss: 1.1537 - acc: 0.5330\n",
      "Epoch 3/100\n",
      "923/923 [==============================] - 0s 118us/step - loss: 1.1488 - acc: 0.5341\n",
      "Epoch 4/100\n",
      "923/923 [==============================] - 0s 118us/step - loss: 1.1381 - acc: 0.5341\n",
      "Epoch 5/100\n",
      "923/923 [==============================] - 0s 117us/step - loss: 1.1252 - acc: 0.5341\n",
      "Epoch 6/100\n",
      "923/923 [==============================] - 0s 115us/step - loss: 1.1190 - acc: 0.5341\n",
      "Epoch 7/100\n",
      "923/923 [==============================] - 0s 112us/step - loss: 1.1066 - acc: 0.5341\n",
      "Epoch 8/100\n",
      "923/923 [==============================] - 0s 112us/step - loss: 1.0923 - acc: 0.5363\n",
      "Epoch 9/100\n",
      "923/923 [==============================] - 0s 113us/step - loss: 1.0724 - acc: 0.5341\n",
      "Epoch 10/100\n",
      "923/923 [==============================] - 0s 112us/step - loss: 1.0606 - acc: 0.5330\n",
      "Epoch 11/100\n",
      "923/923 [==============================] - 0s 115us/step - loss: 1.0391 - acc: 0.5395\n",
      "Epoch 12/100\n",
      "923/923 [==============================] - 0s 117us/step - loss: 1.0035 - acc: 0.5406\n",
      "Epoch 13/100\n",
      "923/923 [==============================] - 0s 113us/step - loss: 0.9800 - acc: 0.5558\n",
      "Epoch 14/100\n",
      "923/923 [==============================] - 0s 112us/step - loss: 0.9515 - acc: 0.5590\n",
      "Epoch 15/100\n",
      "923/923 [==============================] - 0s 111us/step - loss: 0.9226 - acc: 0.5764\n",
      "Epoch 16/100\n",
      "923/923 [==============================] - 0s 114us/step - loss: 0.8828 - acc: 0.5970\n",
      "Epoch 17/100\n",
      "923/923 [==============================] - 0s 114us/step - loss: 0.8510 - acc: 0.6208\n",
      "Epoch 18/100\n",
      "923/923 [==============================] - 0s 112us/step - loss: 0.8199 - acc: 0.6522\n",
      "Epoch 19/100\n",
      "923/923 [==============================] - 0s 113us/step - loss: 0.8467 - acc: 0.6457\n",
      "Epoch 20/100\n",
      "923/923 [==============================] - 0s 112us/step - loss: 0.7493 - acc: 0.6901\n",
      "Epoch 21/100\n",
      "923/923 [==============================] - 0s 112us/step - loss: 0.7110 - acc: 0.7281\n",
      "Epoch 22/100\n",
      "923/923 [==============================] - 0s 113us/step - loss: 0.6761 - acc: 0.7486\n",
      "Epoch 23/100\n",
      "923/923 [==============================] - 0s 114us/step - loss: 0.6473 - acc: 0.7595\n",
      "Epoch 24/100\n",
      "923/923 [==============================] - 0s 115us/step - loss: 0.6179 - acc: 0.7855\n",
      "Epoch 25/100\n",
      "923/923 [==============================] - 0s 115us/step - loss: 0.5814 - acc: 0.8234\n",
      "Epoch 26/100\n",
      "923/923 [==============================] - 0s 115us/step - loss: 0.5564 - acc: 0.8072\n",
      "Epoch 27/100\n",
      "923/923 [==============================] - 0s 114us/step - loss: 0.5584 - acc: 0.8082\n",
      "Epoch 28/100\n",
      "923/923 [==============================] - 0s 114us/step - loss: 0.4665 - acc: 0.8852\n",
      "Epoch 29/100\n",
      "923/923 [==============================] - 0s 114us/step - loss: 0.4621 - acc: 0.8722\n",
      "Epoch 30/100\n",
      "923/923 [==============================] - 0s 115us/step - loss: 0.4168 - acc: 0.9068\n",
      "Epoch 31/100\n",
      "923/923 [==============================] - 0s 115us/step - loss: 0.4031 - acc: 0.9057\n",
      "Epoch 32/100\n",
      "923/923 [==============================] - 0s 113us/step - loss: 0.3476 - acc: 0.9404\n",
      "Epoch 33/100\n",
      "923/923 [==============================] - 0s 115us/step - loss: 0.3295 - acc: 0.9480\n",
      "Epoch 34/100\n",
      "923/923 [==============================] - 0s 111us/step - loss: 0.2964 - acc: 0.9751\n",
      "Epoch 35/100\n",
      "923/923 [==============================] - 0s 119us/step - loss: 0.2972 - acc: 0.9567\n",
      "Epoch 36/100\n",
      "923/923 [==============================] - 0s 127us/step - loss: 0.2602 - acc: 0.9837\n",
      "Epoch 37/100\n",
      "923/923 [==============================] - 0s 126us/step - loss: 0.2389 - acc: 0.9772\n",
      "Epoch 38/100\n",
      "923/923 [==============================] - 0s 119us/step - loss: 0.2322 - acc: 0.9707\n",
      "Epoch 39/100\n",
      "923/923 [==============================] - 0s 124us/step - loss: 0.2165 - acc: 0.9816\n",
      "Epoch 40/100\n",
      "923/923 [==============================] - 0s 122us/step - loss: 0.2071 - acc: 0.9794\n",
      "Epoch 41/100\n",
      "923/923 [==============================] - 0s 121us/step - loss: 0.1782 - acc: 0.9913\n",
      "Epoch 42/100\n",
      "923/923 [==============================] - 0s 119us/step - loss: 0.1719 - acc: 0.9902\n",
      "Epoch 43/100\n",
      "923/923 [==============================] - 0s 121us/step - loss: 0.1685 - acc: 0.9870\n",
      "Epoch 44/100\n",
      "923/923 [==============================] - 0s 124us/step - loss: 0.1536 - acc: 0.9870\n",
      "Epoch 45/100\n",
      "923/923 [==============================] - 0s 126us/step - loss: 0.1421 - acc: 0.9913\n",
      "Epoch 46/100\n",
      "923/923 [==============================] - 0s 120us/step - loss: 0.1328 - acc: 0.9924\n",
      "Epoch 47/100\n",
      "923/923 [==============================] - 0s 120us/step - loss: 0.1203 - acc: 0.9957\n",
      "Epoch 48/100\n",
      "923/923 [==============================] - 0s 117us/step - loss: 0.1182 - acc: 0.9924\n",
      "Epoch 49/100\n",
      "923/923 [==============================] - 0s 125us/step - loss: 0.1309 - acc: 0.9881\n",
      "Epoch 50/100\n",
      "923/923 [==============================] - 0s 114us/step - loss: 0.1039 - acc: 0.9957\n",
      "Epoch 51/100\n",
      "923/923 [==============================] - 0s 113us/step - loss: 0.0979 - acc: 0.9946\n",
      "Epoch 52/100\n",
      "923/923 [==============================] - 0s 115us/step - loss: 0.0993 - acc: 0.9946\n",
      "Epoch 53/100\n",
      "923/923 [==============================] - 0s 116us/step - loss: 0.0887 - acc: 0.9957\n",
      "Epoch 54/100\n",
      "923/923 [==============================] - 0s 117us/step - loss: 0.0847 - acc: 0.9946\n",
      "Epoch 55/100\n",
      "923/923 [==============================] - 0s 115us/step - loss: 0.0860 - acc: 0.9957\n",
      "Epoch 56/100\n",
      "923/923 [==============================] - 0s 115us/step - loss: 0.0766 - acc: 0.9967\n",
      "Epoch 57/100\n",
      "923/923 [==============================] - 0s 113us/step - loss: 0.0725 - acc: 0.9957\n",
      "Epoch 58/100\n",
      "923/923 [==============================] - 0s 115us/step - loss: 0.0677 - acc: 0.9967\n",
      "Epoch 59/100\n",
      "923/923 [==============================] - 0s 120us/step - loss: 0.0648 - acc: 0.9957\n",
      "Epoch 60/100\n",
      "923/923 [==============================] - 0s 122us/step - loss: 0.0616 - acc: 0.9967\n",
      "Epoch 61/100\n",
      "923/923 [==============================] - 0s 122us/step - loss: 0.0602 - acc: 0.9957\n",
      "Epoch 62/100\n",
      "923/923 [==============================] - 0s 124us/step - loss: 0.0573 - acc: 0.9967\n",
      "Epoch 63/100\n",
      "923/923 [==============================] - 0s 124us/step - loss: 0.0581 - acc: 0.9967\n",
      "Epoch 64/100\n",
      "923/923 [==============================] - 0s 128us/step - loss: 0.0528 - acc: 0.9978\n",
      "Epoch 65/100\n",
      "923/923 [==============================] - 0s 128us/step - loss: 0.0509 - acc: 0.9978\n",
      "Epoch 66/100\n",
      "923/923 [==============================] - 0s 128us/step - loss: 0.0491 - acc: 0.9978\n",
      "Epoch 67/100\n",
      "923/923 [==============================] - 0s 127us/step - loss: 0.0500 - acc: 0.9967\n",
      "Epoch 68/100\n",
      "923/923 [==============================] - 0s 129us/step - loss: 0.0454 - acc: 0.9978\n",
      "Epoch 69/100\n",
      "923/923 [==============================] - 0s 131us/step - loss: 0.0454 - acc: 0.9978\n",
      "Epoch 70/100\n",
      "923/923 [==============================] - 0s 129us/step - loss: 0.0424 - acc: 0.9978\n",
      "Epoch 71/100\n",
      "923/923 [==============================] - 0s 132us/step - loss: 0.0428 - acc: 0.9989\n",
      "Epoch 72/100\n",
      "923/923 [==============================] - 0s 131us/step - loss: 0.0393 - acc: 0.9989\n",
      "Epoch 73/100\n",
      "923/923 [==============================] - 0s 131us/step - loss: 0.0376 - acc: 0.9989\n",
      "Epoch 74/100\n",
      "923/923 [==============================] - 0s 132us/step - loss: 0.0372 - acc: 0.9989\n",
      "Epoch 75/100\n",
      "923/923 [==============================] - 0s 132us/step - loss: 0.0346 - acc: 0.9989\n",
      "Epoch 76/100\n",
      "923/923 [==============================] - 0s 130us/step - loss: 0.0339 - acc: 0.9978\n",
      "Epoch 77/100\n",
      "923/923 [==============================] - 0s 129us/step - loss: 0.0317 - acc: 1.0000\n",
      "Epoch 78/100\n"
     ]
    },
    {
     "name": "stdout",
     "output_type": "stream",
     "text": [
      "923/923 [==============================] - 0s 133us/step - loss: 0.0315 - acc: 1.0000\n",
      "Epoch 79/100\n",
      "923/923 [==============================] - 0s 130us/step - loss: 0.0327 - acc: 0.9978\n",
      "Epoch 80/100\n",
      "923/923 [==============================] - 0s 130us/step - loss: 0.0293 - acc: 0.9989\n",
      "Epoch 81/100\n",
      "923/923 [==============================] - 0s 128us/step - loss: 0.0283 - acc: 1.0000\n",
      "Epoch 82/100\n",
      "923/923 [==============================] - 0s 129us/step - loss: 0.0283 - acc: 0.9989\n",
      "Epoch 83/100\n",
      "923/923 [==============================] - 0s 131us/step - loss: 0.0270 - acc: 1.0000\n",
      "Epoch 84/100\n",
      "923/923 [==============================] - 0s 129us/step - loss: 0.0269 - acc: 0.9989\n",
      "Epoch 85/100\n",
      "923/923 [==============================] - 0s 127us/step - loss: 0.0251 - acc: 1.0000\n",
      "Epoch 86/100\n",
      "923/923 [==============================] - 0s 127us/step - loss: 0.0261 - acc: 0.9989\n",
      "Epoch 87/100\n",
      "923/923 [==============================] - 0s 126us/step - loss: 0.0251 - acc: 0.9989\n",
      "Epoch 88/100\n",
      "923/923 [==============================] - 0s 128us/step - loss: 0.0235 - acc: 1.0000\n",
      "Epoch 89/100\n",
      "923/923 [==============================] - 0s 126us/step - loss: 0.0232 - acc: 1.0000\n",
      "Epoch 90/100\n",
      "923/923 [==============================] - 0s 127us/step - loss: 0.0248 - acc: 1.0000\n",
      "Epoch 91/100\n",
      "923/923 [==============================] - 0s 140us/step - loss: 0.0219 - acc: 1.0000\n",
      "Epoch 92/100\n",
      "923/923 [==============================] - 0s 137us/step - loss: 0.0214 - acc: 1.0000\n",
      "Epoch 93/100\n",
      "923/923 [==============================] - 0s 140us/step - loss: 0.0225 - acc: 1.0000\n",
      "Epoch 94/100\n",
      "923/923 [==============================] - 0s 139us/step - loss: 0.0204 - acc: 0.9989\n",
      "Epoch 95/100\n",
      "923/923 [==============================] - 0s 137us/step - loss: 0.0198 - acc: 1.0000\n",
      "Epoch 96/100\n",
      "923/923 [==============================] - 0s 138us/step - loss: 0.0197 - acc: 1.0000\n",
      "Epoch 97/100\n",
      "923/923 [==============================] - 0s 139us/step - loss: 0.0186 - acc: 1.0000\n",
      "Epoch 98/100\n",
      "923/923 [==============================] - 0s 139us/step - loss: 0.0182 - acc: 1.0000\n",
      "Epoch 99/100\n",
      "923/923 [==============================] - 0s 141us/step - loss: 0.0180 - acc: 1.0000\n",
      "Epoch 100/100\n",
      "923/923 [==============================] - 0s 144us/step - loss: 0.0191 - acc: 1.0000\n"
     ]
    },
    {
     "data": {
      "text/plain": [
       "<keras.callbacks.History at 0x63a521828>"
      ]
     },
     "execution_count": 18,
     "metadata": {},
     "output_type": "execute_result"
    }
   ],
   "source": [
    "model.fit(x_train, y_train, nb_epoch=100, batch_size=128)"
   ]
  },
  {
   "cell_type": "code",
   "execution_count": 19,
   "metadata": {},
   "outputs": [],
   "source": [
    "# fizzbuzz to binary\n",
    "def fizz_buzz(i, prediction):\n",
    "    return [str(i), \"fizz\", \"buzz\", \"fizzbuzz\"][prediction]"
   ]
  },
  {
   "cell_type": "code",
   "execution_count": 20,
   "metadata": {},
   "outputs": [],
   "source": [
    "# Setup x_test  fizzbuzz for prime numbers from 1 to 100\n",
    "numbers = np.arange(1, 101)\n",
    "x_test = np.transpose(binary_encode(numbers, NUM_DIGITS))\n",
    "y_test = model.predict_classes(x_test)"
   ]
  },
  {
   "cell_type": "code",
   "execution_count": 21,
   "metadata": {},
   "outputs": [
    {
     "name": "stdout",
     "output_type": "stream",
     "text": [
      "['1' '2' 'fizz' '4' '5' 'fizz' '7' '8' 'fizz' '10' '11' 'fizz' '13' '14'\n",
      " 'fizzbuzz' '16' '17' 'fizz' '19' '20' '21' '22' '23' 'fizz' '25' '26'\n",
      " 'fizz' '28' '29' 'fizzbuzz' '31' '32' 'fizz' '34' 'buzz' 'fizz' '37' '38'\n",
      " 'fizz' '40' '41' 'fizz' '43' '44' 'fizzbuzz' '46' '47' 'fizz' '49' 'buzz'\n",
      " 'fizz' '52' '53' 'fizz' 'buzz' '56' 'fizz' '58' '59' 'fizzbuzz' '61' '62'\n",
      " 'fizz' '64' '65' 'fizz' '67' '68' 'fizz' 'buzz' '71' 'fizz' '73' '74'\n",
      " 'fizzbuzz' '76' '77' 'fizz' '79' '80' 'fizz' '82' '83' 'fizz' 'buzz' '86'\n",
      " 'fizz' '88' '89' 'fizzbuzz' '91' '92' 'fizz' '94' 'buzz' 'fizz' '97' '98'\n",
      " 'fizz' 'buzz']\n"
     ]
    }
   ],
   "source": [
    "# Setup predicted output\n",
    "predictions = np.vectorize(fizz_buzz)(numbers, y_test)\n",
    "print (predictions)"
   ]
  },
  {
   "cell_type": "code",
   "execution_count": 22,
   "metadata": {},
   "outputs": [
    {
     "name": "stdout",
     "output_type": "stream",
     "text": [
      "['1' '2' 'fizz' '4' 'buzz' 'fizz' '7' '8' 'fizz' 'buzz' '11' 'fizz' '13'\n",
      " '14' 'fizzbuzz' '16' '17' 'fizz' '19' 'buzz' 'fizz' '22' '23' 'fizz'\n",
      " 'buzz' '26' 'fizz' '28' '29' 'fizzbuzz' '31' '32' 'fizz' '34' 'buzz'\n",
      " 'fizz' '37' '38' 'fizz' 'buzz' '41' 'fizz' '43' '44' 'fizzbuzz' '46' '47'\n",
      " 'fizz' '49' 'buzz' 'fizz' '52' '53' 'fizz' 'buzz' '56' 'fizz' '58' '59'\n",
      " 'fizzbuzz' '61' '62' 'fizz' '64' 'buzz' 'fizz' '67' '68' 'fizz' 'buzz'\n",
      " '71' 'fizz' '73' '74' 'fizzbuzz' '76' '77' 'fizz' '79' 'buzz' 'fizz' '82'\n",
      " '83' 'fizz' 'buzz' '86' 'fizz' '88' '89' 'fizzbuzz' '91' '92' 'fizz' '94'\n",
      " 'buzz' 'fizz' '97' '98' 'fizz' 'buzz']\n"
     ]
    }
   ],
   "source": [
    "# correct answers for fizzbuzz on 1-100, these are our actual values\n",
    "answer = np.array([])\n",
    "for i in numbers:\n",
    "    if i % 15 == 0: \n",
    "        answer = np.append(answer, \"fizzbuzz\")\n",
    "    elif i % 5 == 0: \n",
    "        answer = np.append(answer, \"buzz\")\n",
    "    elif i % 3 == 0: \n",
    "        answer = np.append(answer, \"fizz\")\n",
    "    else: answer = np.append(answer, str(i))\n",
    "print (answer)"
   ]
  },
  {
   "cell_type": "code",
   "execution_count": 23,
   "metadata": {},
   "outputs": [
    {
     "name": "stdout",
     "output_type": "stream",
     "text": [
      "0.92\n"
     ]
    }
   ],
   "source": [
    "# Let's evaluate the model's predictions\n",
    "evaluate = np.array(answer == predictions)\n",
    "print (np.count_nonzero(evaluate == True) / 100)"
   ]
  },
  {
   "cell_type": "code",
   "execution_count": 24,
   "metadata": {},
   "outputs": [
    {
     "data": {
      "text/plain": [
       "array([ True,  True,  True,  True, False,  True,  True,  True,  True,\n",
       "       False,  True,  True,  True,  True,  True,  True,  True,  True,\n",
       "        True, False, False,  True,  True,  True, False,  True,  True,\n",
       "        True,  True,  True,  True,  True,  True,  True,  True,  True,\n",
       "        True,  True,  True, False,  True,  True,  True,  True,  True,\n",
       "        True,  True,  True,  True,  True,  True,  True,  True,  True,\n",
       "        True,  True,  True,  True,  True,  True,  True,  True,  True,\n",
       "        True, False,  True,  True,  True,  True,  True,  True,  True,\n",
       "        True,  True,  True,  True,  True,  True,  True, False,  True,\n",
       "        True,  True,  True,  True,  True,  True,  True,  True,  True,\n",
       "        True,  True,  True,  True,  True,  True,  True,  True,  True,\n",
       "        True])"
      ]
     },
     "execution_count": 24,
     "metadata": {},
     "output_type": "execute_result"
    }
   ],
   "source": [
    "answer == predictions"
   ]
  },
  {
   "cell_type": "markdown",
   "metadata": {},
   "source": [
    "**Exercise**\n",
    "\n",
    "1. Reassign the NUM_DIGITS to be 5 and re-run the notebook. What do you notice? Take note of the accuracy number.\n",
    "2. Reassign the NUM_DIGITS to be 11 and re-run the notebook. What do you notice? Take note of the accuracy number.\n",
    "3. Now try commenting out the last two model layers so there's only a single layer. Re-run the model to test for accuracy.\n",
    "4. Un-comment the last two model layers and set all their their activation parameters to \"sigmoid\" and re-run.\n",
    "5. Explore https://keras.io/activations/ to see what other activation functions are available. Experiment with some and see how they perform. This is an example of hyperparameter tuning."
   ]
  },
  {
   "cell_type": "code",
   "execution_count": null,
   "metadata": {},
   "outputs": [],
   "source": []
  }
 ],
 "metadata": {
  "kernelspec": {
   "display_name": "Python 3",
   "language": "python",
   "name": "python3"
  },
  "language_info": {
   "codemirror_mode": {
    "name": "ipython",
    "version": 3
   },
   "file_extension": ".py",
   "mimetype": "text/x-python",
   "name": "python",
   "nbconvert_exporter": "python",
   "pygments_lexer": "ipython3",
   "version": "3.7.3"
  }
 },
 "nbformat": 4,
 "nbformat_minor": 2
}
