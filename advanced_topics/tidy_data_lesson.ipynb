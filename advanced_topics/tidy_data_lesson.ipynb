{
 "cells": [
  {
   "cell_type": "code",
   "execution_count": 1,
   "metadata": {},
   "outputs": [],
   "source": [
    "import pandas as pd"
   ]
  },
  {
   "cell_type": "code",
   "execution_count": null,
   "metadata": {},
   "outputs": [],
   "source": [
    "## Tidy Data\n",
    "\n",
    "- tabular data\n",
    "- one value per cell\n",
    "- one val/column\n",
    "- one obs/row\n",
    "\n",
    "## Melt\n",
    "\n",
    "df = pd.read_csv('./untidy_data/treatments.csv')\n",
    "\n",
    "df\n",
    "\n",
    "df.columns = ['subject_name', 'treatment_a', 'treatment_b', 'treatment_c']\n",
    "\n",
    "df\n",
    "\n",
    "df = df.melt(id_vars='subject_name', var_name='treatment', value_name='response')\n",
    "# variable name is description of what columns are\n",
    "# value name is description of what numbers are\n",
    "\n",
    "df\n",
    "\n",
    "# cleanup the treatment column\n",
    "df.treatment = df.treatment.str.replace('treatment_', '')\n",
    "\n",
    "df\n",
    "\n",
    "## Pivot Table\n",
    "\n",
    "df = pd.read_csv('./untidy_data/students.csv')\n",
    "df.head()\n",
    "# there are separate variable with separate values mashed together in one column\n",
    "# when units are off, thats a good tip off working with untidy data\n",
    "\n",
    "# show values, then rows, then columns\n",
    "df.pivot_table('val', 'date', 'var').head()\n",
    "# data is in a tidy format now since we have one value per column\n",
    "# different units, strong hint that there are multiple vars to extract\n",
    "\n",
    "df = pd.read_csv('./untidy_data/sales.csv')\n",
    "df\n",
    "# untidy data because of combination of year/var name \n",
    "\n",
    "# first melt, then split year/var combo, then spread to put into tidy format\n",
    "df = df.melt(id_vars=\"Product\")\n",
    "df.head(7)\n",
    "\n",
    "# then extract var name/year\n",
    "df['year'] = df.variable.str.extract(r'^(\\d+)')\n",
    "\n",
    "df.head()\n",
    "\n",
    "df['var_name'] = df.variable.str.extract(r'^\\d+\\s(.*$)')\n",
    "\n",
    "df.head()\n",
    "\n",
    "df = df.drop(columns='variable')\n",
    "\n",
    "df.head()\n",
    "\n",
    "#df.pivot('value', ['Product', 'year'], 'var_name')\n",
    "\n",
    "#df.columns.name = ''\n",
    "\n",
    "#df.head()"
   ]
  }
 ],
 "metadata": {
  "kernelspec": {
   "display_name": "Python 3",
   "language": "python",
   "name": "python3"
  },
  "language_info": {
   "codemirror_mode": {
    "name": "ipython",
    "version": 3
   },
   "file_extension": ".py",
   "mimetype": "text/x-python",
   "name": "python",
   "nbconvert_exporter": "python",
   "pygments_lexer": "ipython3",
   "version": "3.7.3"
  }
 },
 "nbformat": 4,
 "nbformat_minor": 2
}
