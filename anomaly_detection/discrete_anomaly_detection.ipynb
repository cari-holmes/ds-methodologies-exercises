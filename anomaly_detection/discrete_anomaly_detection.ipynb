{
 "cells": [
  {
   "cell_type": "markdown",
   "metadata": {},
   "source": [
    "Use basic probability to identify anomalous request methods. You will want to make sure the text is normalized in order to reduce the noise."
   ]
  },
  {
   "cell_type": "markdown",
   "metadata": {},
   "source": [
    "Imports"
   ]
  },
  {
   "cell_type": "code",
   "execution_count": 1,
   "metadata": {},
   "outputs": [],
   "source": [
    "from __future__ import division\n",
    "import itertools\n",
    "import warnings\n",
    "warnings.filterwarnings(\"ignore\")\n",
    "import matplotlib.pyplot as plt\n",
    "import matplotlib.dates as mdates\n",
    "import numpy as np\n",
    "import pandas as pd\n",
    "import math\n",
    "from sklearn import metrics\n",
    "from random import randint\n",
    "from matplotlib import style\n",
    "import seaborn as sns\n",
    "%matplotlib inline"
   ]
  },
  {
   "cell_type": "markdown",
   "metadata": {},
   "source": [
    "Wrangle Data"
   ]
  },
  {
   "cell_type": "code",
   "execution_count": 2,
   "metadata": {},
   "outputs": [],
   "source": [
    "colnames=['ip', 'timestamp', 'request_method', 'status', 'size',\n",
    "          'destination', 'request_agent']\n",
    "df_orig = pd.read_csv('http://python.zach.lol/access.log',          \n",
    "                 engine='python',\n",
    "                 header=None,\n",
    "                 index_col=False,\n",
    "                 names=colnames,\n",
    "                 sep=r'\\s(?=(?:[^\"]*\"[^\"]*\")*[^\"]*$)(?![^\\[]*\\])',\n",
    "                 na_values='\"-\"',\n",
    "                 usecols=[0, 3, 4, 5, 6, 7, 8]\n",
    ")\n",
    "\n",
    "new = pd.DataFrame([[\"95.31.18.119\", \"[21/Apr/2019:10:02:41+0000]\", \n",
    "                     \"GET /api/v1/items/HTTP/1.1\", 200, 1153005, np.nan, \n",
    "                     \"python-requests/2.21.0\"],\n",
    "                    [\"95.31.16.121\", \"[17/Apr/2019:19:36:41+0000]\", \n",
    "                     \"GET /api/v1/sales?page=79/HTTP/1.1\", 301, 1005, np.nan, \n",
    "                     \"python-requests/2.21.0\"],\n",
    "                    [\"97.105.15.120\", \"[18/Apr/2019:19:42:41+0000]\", \n",
    "                     \"GET /api/v1/sales?page=79/HTTP/1.1\", 301, 2560, np.nan, \n",
    "                     \"python-requests/2.21.0\"],\n",
    "                    [\"97.105.19.58\", \"[19/Apr/2019:19:42:41+0000]\", \n",
    "                     \"GET /api/v1/sales?page=79/HTTP/1.1\", 200, 2056327, np.nan, \n",
    "                     \"python-requests/2.21.0\"]], columns=colnames)\n",
    "\n",
    "df = df_orig.append(new)"
   ]
  },
  {
   "cell_type": "code",
   "execution_count": 3,
   "metadata": {},
   "outputs": [
    {
     "data": {
      "text/html": [
       "<div>\n",
       "<style scoped>\n",
       "    .dataframe tbody tr th:only-of-type {\n",
       "        vertical-align: middle;\n",
       "    }\n",
       "\n",
       "    .dataframe tbody tr th {\n",
       "        vertical-align: top;\n",
       "    }\n",
       "\n",
       "    .dataframe thead th {\n",
       "        text-align: right;\n",
       "    }\n",
       "</style>\n",
       "<table border=\"1\" class=\"dataframe\">\n",
       "  <thead>\n",
       "    <tr style=\"text-align: right;\">\n",
       "      <th></th>\n",
       "      <th>ip</th>\n",
       "      <th>timestamp</th>\n",
       "      <th>request_method</th>\n",
       "      <th>status</th>\n",
       "      <th>size</th>\n",
       "      <th>destination</th>\n",
       "      <th>request_agent</th>\n",
       "    </tr>\n",
       "  </thead>\n",
       "  <tbody>\n",
       "    <tr>\n",
       "      <th>0</th>\n",
       "      <td>97.105.19.58</td>\n",
       "      <td>[16/Apr/2019:19:34:42 +0000]</td>\n",
       "      <td>\"GET /api/v1/sales?page=81 HTTP/1.1\"</td>\n",
       "      <td>200</td>\n",
       "      <td>512495</td>\n",
       "      <td>NaN</td>\n",
       "      <td>\"python-requests/2.21.0\"</td>\n",
       "    </tr>\n",
       "    <tr>\n",
       "      <th>1</th>\n",
       "      <td>97.105.19.58</td>\n",
       "      <td>[16/Apr/2019:19:34:42 +0000]</td>\n",
       "      <td>\"GET /api/v1/items HTTP/1.1\"</td>\n",
       "      <td>200</td>\n",
       "      <td>3561</td>\n",
       "      <td>NaN</td>\n",
       "      <td>\"python-requests/2.21.0\"</td>\n",
       "    </tr>\n",
       "    <tr>\n",
       "      <th>2</th>\n",
       "      <td>97.105.19.58</td>\n",
       "      <td>[16/Apr/2019:19:34:44 +0000]</td>\n",
       "      <td>\"GET /api/v1/sales?page=82 HTTP/1.1\"</td>\n",
       "      <td>200</td>\n",
       "      <td>510103</td>\n",
       "      <td>NaN</td>\n",
       "      <td>\"python-requests/2.21.0\"</td>\n",
       "    </tr>\n",
       "    <tr>\n",
       "      <th>3</th>\n",
       "      <td>97.105.19.58</td>\n",
       "      <td>[16/Apr/2019:19:34:46 +0000]</td>\n",
       "      <td>\"GET /api/v1/sales?page=83 HTTP/1.1\"</td>\n",
       "      <td>200</td>\n",
       "      <td>510003</td>\n",
       "      <td>NaN</td>\n",
       "      <td>\"python-requests/2.21.0\"</td>\n",
       "    </tr>\n",
       "    <tr>\n",
       "      <th>4</th>\n",
       "      <td>97.105.19.58</td>\n",
       "      <td>[16/Apr/2019:19:34:48 +0000]</td>\n",
       "      <td>\"GET /api/v1/sales?page=84 HTTP/1.1\"</td>\n",
       "      <td>200</td>\n",
       "      <td>511963</td>\n",
       "      <td>NaN</td>\n",
       "      <td>\"python-requests/2.21.0\"</td>\n",
       "    </tr>\n",
       "  </tbody>\n",
       "</table>\n",
       "</div>"
      ],
      "text/plain": [
       "             ip                     timestamp  \\\n",
       "0  97.105.19.58  [16/Apr/2019:19:34:42 +0000]   \n",
       "1  97.105.19.58  [16/Apr/2019:19:34:42 +0000]   \n",
       "2  97.105.19.58  [16/Apr/2019:19:34:44 +0000]   \n",
       "3  97.105.19.58  [16/Apr/2019:19:34:46 +0000]   \n",
       "4  97.105.19.58  [16/Apr/2019:19:34:48 +0000]   \n",
       "\n",
       "                         request_method  status    size destination  \\\n",
       "0  \"GET /api/v1/sales?page=81 HTTP/1.1\"     200  512495         NaN   \n",
       "1          \"GET /api/v1/items HTTP/1.1\"     200    3561         NaN   \n",
       "2  \"GET /api/v1/sales?page=82 HTTP/1.1\"     200  510103         NaN   \n",
       "3  \"GET /api/v1/sales?page=83 HTTP/1.1\"     200  510003         NaN   \n",
       "4  \"GET /api/v1/sales?page=84 HTTP/1.1\"     200  511963         NaN   \n",
       "\n",
       "              request_agent  \n",
       "0  \"python-requests/2.21.0\"  \n",
       "1  \"python-requests/2.21.0\"  \n",
       "2  \"python-requests/2.21.0\"  \n",
       "3  \"python-requests/2.21.0\"  \n",
       "4  \"python-requests/2.21.0\"  "
      ]
     },
     "execution_count": 3,
     "metadata": {},
     "output_type": "execute_result"
    }
   ],
   "source": [
    "df.head()"
   ]
  },
  {
   "cell_type": "code",
   "execution_count": 4,
   "metadata": {},
   "outputs": [
    {
     "name": "stdout",
     "output_type": "stream",
     "text": [
      "<class 'pandas.core.frame.DataFrame'>\n",
      "Int64Index: 13978 entries, 0 to 3\n",
      "Data columns (total 7 columns):\n",
      "ip                13978 non-null object\n",
      "timestamp         13978 non-null object\n",
      "request_method    13978 non-null object\n",
      "status            13978 non-null int64\n",
      "size              13978 non-null int64\n",
      "destination       25 non-null object\n",
      "request_agent     13978 non-null object\n",
      "dtypes: int64(2), object(5)\n",
      "memory usage: 873.6+ KB\n"
     ]
    }
   ],
   "source": [
    "df.info()"
   ]
  },
  {
   "cell_type": "code",
   "execution_count": 5,
   "metadata": {},
   "outputs": [
    {
     "data": {
      "text/html": [
       "<div>\n",
       "<style scoped>\n",
       "    .dataframe tbody tr th:only-of-type {\n",
       "        vertical-align: middle;\n",
       "    }\n",
       "\n",
       "    .dataframe tbody tr th {\n",
       "        vertical-align: top;\n",
       "    }\n",
       "\n",
       "    .dataframe thead th {\n",
       "        text-align: right;\n",
       "    }\n",
       "</style>\n",
       "<table border=\"1\" class=\"dataframe\">\n",
       "  <thead>\n",
       "    <tr style=\"text-align: right;\">\n",
       "      <th></th>\n",
       "      <th>status</th>\n",
       "      <th>size</th>\n",
       "    </tr>\n",
       "  </thead>\n",
       "  <tbody>\n",
       "    <tr>\n",
       "      <th>count</th>\n",
       "      <td>13978.000000</td>\n",
       "      <td>1.397800e+04</td>\n",
       "    </tr>\n",
       "    <tr>\n",
       "      <th>mean</th>\n",
       "      <td>200.356703</td>\n",
       "      <td>4.500019e+05</td>\n",
       "    </tr>\n",
       "    <tr>\n",
       "      <th>std</th>\n",
       "      <td>10.182001</td>\n",
       "      <td>1.614915e+05</td>\n",
       "    </tr>\n",
       "    <tr>\n",
       "      <th>min</th>\n",
       "      <td>200.000000</td>\n",
       "      <td>0.000000e+00</td>\n",
       "    </tr>\n",
       "    <tr>\n",
       "      <th>25%</th>\n",
       "      <td>200.000000</td>\n",
       "      <td>5.006370e+05</td>\n",
       "    </tr>\n",
       "    <tr>\n",
       "      <th>50%</th>\n",
       "      <td>200.000000</td>\n",
       "      <td>5.101380e+05</td>\n",
       "    </tr>\n",
       "    <tr>\n",
       "      <th>75%</th>\n",
       "      <td>200.000000</td>\n",
       "      <td>5.112910e+05</td>\n",
       "    </tr>\n",
       "    <tr>\n",
       "      <th>max</th>\n",
       "      <td>499.000000</td>\n",
       "      <td>2.056327e+06</td>\n",
       "    </tr>\n",
       "  </tbody>\n",
       "</table>\n",
       "</div>"
      ],
      "text/plain": [
       "             status          size\n",
       "count  13978.000000  1.397800e+04\n",
       "mean     200.356703  4.500019e+05\n",
       "std       10.182001  1.614915e+05\n",
       "min      200.000000  0.000000e+00\n",
       "25%      200.000000  5.006370e+05\n",
       "50%      200.000000  5.101380e+05\n",
       "75%      200.000000  5.112910e+05\n",
       "max      499.000000  2.056327e+06"
      ]
     },
     "execution_count": 5,
     "metadata": {},
     "output_type": "execute_result"
    }
   ],
   "source": [
    "df.describe()"
   ]
  },
  {
   "cell_type": "code",
   "execution_count": 6,
   "metadata": {},
   "outputs": [
    {
     "data": {
      "text/plain": [
       "Index(['ip', 'timestamp', 'request_method', 'status', 'size', 'destination',\n",
       "       'request_agent'],\n",
       "      dtype='object')"
      ]
     },
     "execution_count": 6,
     "metadata": {},
     "output_type": "execute_result"
    }
   ],
   "source": [
    "df.columns"
   ]
  },
  {
   "cell_type": "code",
   "execution_count": 7,
   "metadata": {},
   "outputs": [
    {
     "data": {
      "text/plain": [
       "(13978, 7)"
      ]
     },
     "execution_count": 7,
     "metadata": {},
     "output_type": "execute_result"
    }
   ],
   "source": [
    "df.shape"
   ]
  },
  {
   "cell_type": "code",
   "execution_count": 8,
   "metadata": {},
   "outputs": [
    {
     "data": {
      "image/png": "[encoded data removed]",
      "text/plain": [
       "<Figure size 432x288 with 2 Axes>"
      ]
     },
     "metadata": {
      "needs_background": "light"
     },
     "output_type": "display_data"
    }
   ],
   "source": [
    "df.hist()\n",
    "plt.show()"
   ]
  },
  {
   "cell_type": "markdown",
   "metadata": {},
   "source": [
    "Prepare"
   ]
  },
  {
   "cell_type": "code",
   "execution_count": 9,
   "metadata": {},
   "outputs": [
    {
     "data": {
      "text/plain": [
       "200    13960\n",
       "499       16\n",
       "301        2\n",
       "Name: status, dtype: int64"
      ]
     },
     "execution_count": 9,
     "metadata": {},
     "output_type": "execute_result"
    }
   ],
   "source": [
    "df.status.value_counts()"
   ]
  },
  {
   "cell_type": "code",
   "execution_count": 10,
   "metadata": {},
   "outputs": [
    {
     "data": {
      "text/html": [
       "<div>\n",
       "<style scoped>\n",
       "    .dataframe tbody tr th:only-of-type {\n",
       "        vertical-align: middle;\n",
       "    }\n",
       "\n",
       "    .dataframe tbody tr th {\n",
       "        vertical-align: top;\n",
       "    }\n",
       "\n",
       "    .dataframe thead th {\n",
       "        text-align: right;\n",
       "    }\n",
       "</style>\n",
       "<table border=\"1\" class=\"dataframe\">\n",
       "  <thead>\n",
       "    <tr style=\"text-align: right;\">\n",
       "      <th></th>\n",
       "      <th>ip</th>\n",
       "      <th>timestamp</th>\n",
       "      <th>request_method</th>\n",
       "      <th>status</th>\n",
       "      <th>size</th>\n",
       "      <th>destination</th>\n",
       "      <th>request_agent</th>\n",
       "    </tr>\n",
       "  </thead>\n",
       "  <tbody>\n",
       "    <tr>\n",
       "      <th>1</th>\n",
       "      <td>95.31.16.121</td>\n",
       "      <td>[17/Apr/2019:19:36:41+0000]</td>\n",
       "      <td>GET /api/v1/sales?page=79/HTTP/1.1</td>\n",
       "      <td>301</td>\n",
       "      <td>1005</td>\n",
       "      <td>NaN</td>\n",
       "      <td>python-requests/2.21.0</td>\n",
       "    </tr>\n",
       "    <tr>\n",
       "      <th>2</th>\n",
       "      <td>97.105.15.120</td>\n",
       "      <td>[18/Apr/2019:19:42:41+0000]</td>\n",
       "      <td>GET /api/v1/sales?page=79/HTTP/1.1</td>\n",
       "      <td>301</td>\n",
       "      <td>2560</td>\n",
       "      <td>NaN</td>\n",
       "      <td>python-requests/2.21.0</td>\n",
       "    </tr>\n",
       "  </tbody>\n",
       "</table>\n",
       "</div>"
      ],
      "text/plain": [
       "              ip                    timestamp  \\\n",
       "1   95.31.16.121  [17/Apr/2019:19:36:41+0000]   \n",
       "2  97.105.15.120  [18/Apr/2019:19:42:41+0000]   \n",
       "\n",
       "                       request_method  status  size destination  \\\n",
       "1  GET /api/v1/sales?page=79/HTTP/1.1     301  1005         NaN   \n",
       "2  GET /api/v1/sales?page=79/HTTP/1.1     301  2560         NaN   \n",
       "\n",
       "            request_agent  \n",
       "1  python-requests/2.21.0  \n",
       "2  python-requests/2.21.0  "
      ]
     },
     "execution_count": 10,
     "metadata": {},
     "output_type": "execute_result"
    }
   ],
   "source": [
    "df[df.status == 301]"
   ]
  },
  {
   "cell_type": "code",
   "execution_count": 11,
   "metadata": {},
   "outputs": [
    {
     "data": {
      "text/html": [
       "<div>\n",
       "<style scoped>\n",
       "    .dataframe tbody tr th:only-of-type {\n",
       "        vertical-align: middle;\n",
       "    }\n",
       "\n",
       "    .dataframe tbody tr th {\n",
       "        vertical-align: top;\n",
       "    }\n",
       "\n",
       "    .dataframe thead th {\n",
       "        text-align: right;\n",
       "    }\n",
       "</style>\n",
       "<table border=\"1\" class=\"dataframe\">\n",
       "  <thead>\n",
       "    <tr style=\"text-align: right;\">\n",
       "      <th></th>\n",
       "      <th>ip</th>\n",
       "      <th>timestamp</th>\n",
       "      <th>request_method</th>\n",
       "      <th>status</th>\n",
       "      <th>size</th>\n",
       "      <th>destination</th>\n",
       "      <th>request_agent</th>\n",
       "    </tr>\n",
       "  </thead>\n",
       "  <tbody>\n",
       "    <tr>\n",
       "      <th>1745</th>\n",
       "      <td>97.105.19.58</td>\n",
       "      <td>[16/Apr/2019:19:55:15 +0000]</td>\n",
       "      <td>\"GET /api/v1/sales?page=2 HTTP/1.1\"</td>\n",
       "      <td>499</td>\n",
       "      <td>0</td>\n",
       "      <td>NaN</td>\n",
       "      <td>\"python-requests/2.20.1\"</td>\n",
       "    </tr>\n",
       "    <tr>\n",
       "      <th>1819</th>\n",
       "      <td>97.105.19.58</td>\n",
       "      <td>[16/Apr/2019:19:56:02 +0000]</td>\n",
       "      <td>\"GET /api/v1/sales?page=21 HTTP/1.1\"</td>\n",
       "      <td>499</td>\n",
       "      <td>0</td>\n",
       "      <td>NaN</td>\n",
       "      <td>\"python-requests/2.20.1\"</td>\n",
       "    </tr>\n",
       "    <tr>\n",
       "      <th>4242</th>\n",
       "      <td>97.105.19.58</td>\n",
       "      <td>[16/Apr/2019:20:28:46 +0000]</td>\n",
       "      <td>\"GET /api/v1/sales?page=2 HTTP/1.1\"</td>\n",
       "      <td>499</td>\n",
       "      <td>0</td>\n",
       "      <td>NaN</td>\n",
       "      <td>\"python-requests/2.21.0\"</td>\n",
       "    </tr>\n",
       "    <tr>\n",
       "      <th>4405</th>\n",
       "      <td>97.105.19.58</td>\n",
       "      <td>[16/Apr/2019:20:33:24 +0000]</td>\n",
       "      <td>\"GET /api/v1/sales?page=29 HTTP/1.1\"</td>\n",
       "      <td>499</td>\n",
       "      <td>0</td>\n",
       "      <td>NaN</td>\n",
       "      <td>\"python-requests/2.21.0\"</td>\n",
       "    </tr>\n",
       "    <tr>\n",
       "      <th>4790</th>\n",
       "      <td>97.105.19.58</td>\n",
       "      <td>[16/Apr/2019:20:38:13 +0000]</td>\n",
       "      <td>\"GET /api/v1/items HTTP/1.1\"</td>\n",
       "      <td>499</td>\n",
       "      <td>0</td>\n",
       "      <td>NaN</td>\n",
       "      <td>\"python-requests/2.21.0\"</td>\n",
       "    </tr>\n",
       "    <tr>\n",
       "      <th>4862</th>\n",
       "      <td>97.105.19.58</td>\n",
       "      <td>[16/Apr/2019:20:38:55 +0000]</td>\n",
       "      <td>\"GET /api/v1/items HTTP/1.1\"</td>\n",
       "      <td>499</td>\n",
       "      <td>0</td>\n",
       "      <td>NaN</td>\n",
       "      <td>\"python-requests/2.21.0\"</td>\n",
       "    </tr>\n",
       "    <tr>\n",
       "      <th>4871</th>\n",
       "      <td>97.105.19.58</td>\n",
       "      <td>[16/Apr/2019:20:39:00 +0000]</td>\n",
       "      <td>\"GET /api/v1/items HTTP/1.1\"</td>\n",
       "      <td>499</td>\n",
       "      <td>0</td>\n",
       "      <td>NaN</td>\n",
       "      <td>\"python-requests/2.21.0\"</td>\n",
       "    </tr>\n",
       "    <tr>\n",
       "      <th>5520</th>\n",
       "      <td>97.105.19.58</td>\n",
       "      <td>[16/Apr/2019:20:45:17 +0000]</td>\n",
       "      <td>\"GET /api/v1/items HTTP/1.1\"</td>\n",
       "      <td>499</td>\n",
       "      <td>0</td>\n",
       "      <td>NaN</td>\n",
       "      <td>\"python-requests/2.21.0\"</td>\n",
       "    </tr>\n",
       "    <tr>\n",
       "      <th>5539</th>\n",
       "      <td>97.105.19.58</td>\n",
       "      <td>[16/Apr/2019:20:45:28 +0000]</td>\n",
       "      <td>\"GET /api/v1/sales?page=2 HTTP/1.1\"</td>\n",
       "      <td>499</td>\n",
       "      <td>0</td>\n",
       "      <td>NaN</td>\n",
       "      <td>\"python-requests/2.21.0\"</td>\n",
       "    </tr>\n",
       "    <tr>\n",
       "      <th>6860</th>\n",
       "      <td>97.105.19.58</td>\n",
       "      <td>[16/Apr/2019:21:00:35 +0000]</td>\n",
       "      <td>\"GET /api/v1/sales?page=115 HTTP/1.1\"</td>\n",
       "      <td>499</td>\n",
       "      <td>0</td>\n",
       "      <td>NaN</td>\n",
       "      <td>\"python-requests/2.20.1\"</td>\n",
       "    </tr>\n",
       "    <tr>\n",
       "      <th>6934</th>\n",
       "      <td>97.105.19.58</td>\n",
       "      <td>[16/Apr/2019:21:02:07 +0000]</td>\n",
       "      <td>\"GET /api/v1/sales?page=47 HTTP/1.1\"</td>\n",
       "      <td>499</td>\n",
       "      <td>0</td>\n",
       "      <td>NaN</td>\n",
       "      <td>\"python-requests/2.20.1\"</td>\n",
       "    </tr>\n",
       "    <tr>\n",
       "      <th>8267</th>\n",
       "      <td>97.105.19.58</td>\n",
       "      <td>[16/Apr/2019:21:30:46 +0000]</td>\n",
       "      <td>\"GET /api/v1/sales?page=25 HTTP/1.1\"</td>\n",
       "      <td>499</td>\n",
       "      <td>0</td>\n",
       "      <td>NaN</td>\n",
       "      <td>\"python-requests/2.21.0\"</td>\n",
       "    </tr>\n",
       "    <tr>\n",
       "      <th>8866</th>\n",
       "      <td>97.105.19.58</td>\n",
       "      <td>[16/Apr/2019:21:39:21 +0000]</td>\n",
       "      <td>\"GET /api/v1/sales?page=80 HTTP/1.1\"</td>\n",
       "      <td>499</td>\n",
       "      <td>0</td>\n",
       "      <td>NaN</td>\n",
       "      <td>\"python-requests/2.21.0\"</td>\n",
       "    </tr>\n",
       "    <tr>\n",
       "      <th>10838</th>\n",
       "      <td>97.105.19.58</td>\n",
       "      <td>[16/Apr/2019:22:21:38 +0000]</td>\n",
       "      <td>\"GET /api/v1/sales?page=69 HTTP/1.1\"</td>\n",
       "      <td>499</td>\n",
       "      <td>0</td>\n",
       "      <td>NaN</td>\n",
       "      <td>\"python-requests/2.21.0\"</td>\n",
       "    </tr>\n",
       "    <tr>\n",
       "      <th>12598</th>\n",
       "      <td>72.181.113.170</td>\n",
       "      <td>[17/Apr/2019:02:48:36 +0000]</td>\n",
       "      <td>\"GET /api/v1/sales?page=8 HTTP/1.1\"</td>\n",
       "      <td>499</td>\n",
       "      <td>0</td>\n",
       "      <td>NaN</td>\n",
       "      <td>\"python-requests/2.21.0\"</td>\n",
       "    </tr>\n",
       "    <tr>\n",
       "      <th>13106</th>\n",
       "      <td>72.181.113.170</td>\n",
       "      <td>[17/Apr/2019:03:42:44 +0000]</td>\n",
       "      <td>\"GET /api/v1/sales?page=133 HTTP/1.1\"</td>\n",
       "      <td>499</td>\n",
       "      <td>0</td>\n",
       "      <td>NaN</td>\n",
       "      <td>\"python-requests/2.21.0\"</td>\n",
       "    </tr>\n",
       "  </tbody>\n",
       "</table>\n",
       "</div>"
      ],
      "text/plain": [
       "                   ip                     timestamp  \\\n",
       "1745     97.105.19.58  [16/Apr/2019:19:55:15 +0000]   \n",
       "1819     97.105.19.58  [16/Apr/2019:19:56:02 +0000]   \n",
       "4242     97.105.19.58  [16/Apr/2019:20:28:46 +0000]   \n",
       "4405     97.105.19.58  [16/Apr/2019:20:33:24 +0000]   \n",
       "4790     97.105.19.58  [16/Apr/2019:20:38:13 +0000]   \n",
       "4862     97.105.19.58  [16/Apr/2019:20:38:55 +0000]   \n",
       "4871     97.105.19.58  [16/Apr/2019:20:39:00 +0000]   \n",
       "5520     97.105.19.58  [16/Apr/2019:20:45:17 +0000]   \n",
       "5539     97.105.19.58  [16/Apr/2019:20:45:28 +0000]   \n",
       "6860     97.105.19.58  [16/Apr/2019:21:00:35 +0000]   \n",
       "6934     97.105.19.58  [16/Apr/2019:21:02:07 +0000]   \n",
       "8267     97.105.19.58  [16/Apr/2019:21:30:46 +0000]   \n",
       "8866     97.105.19.58  [16/Apr/2019:21:39:21 +0000]   \n",
       "10838    97.105.19.58  [16/Apr/2019:22:21:38 +0000]   \n",
       "12598  72.181.113.170  [17/Apr/2019:02:48:36 +0000]   \n",
       "13106  72.181.113.170  [17/Apr/2019:03:42:44 +0000]   \n",
       "\n",
       "                              request_method  status  size destination  \\\n",
       "1745     \"GET /api/v1/sales?page=2 HTTP/1.1\"     499     0         NaN   \n",
       "1819    \"GET /api/v1/sales?page=21 HTTP/1.1\"     499     0         NaN   \n",
       "4242     \"GET /api/v1/sales?page=2 HTTP/1.1\"     499     0         NaN   \n",
       "4405    \"GET /api/v1/sales?page=29 HTTP/1.1\"     499     0         NaN   \n",
       "4790            \"GET /api/v1/items HTTP/1.1\"     499     0         NaN   \n",
       "4862            \"GET /api/v1/items HTTP/1.1\"     499     0         NaN   \n",
       "4871            \"GET /api/v1/items HTTP/1.1\"     499     0         NaN   \n",
       "5520            \"GET /api/v1/items HTTP/1.1\"     499     0         NaN   \n",
       "5539     \"GET /api/v1/sales?page=2 HTTP/1.1\"     499     0         NaN   \n",
       "6860   \"GET /api/v1/sales?page=115 HTTP/1.1\"     499     0         NaN   \n",
       "6934    \"GET /api/v1/sales?page=47 HTTP/1.1\"     499     0         NaN   \n",
       "8267    \"GET /api/v1/sales?page=25 HTTP/1.1\"     499     0         NaN   \n",
       "8866    \"GET /api/v1/sales?page=80 HTTP/1.1\"     499     0         NaN   \n",
       "10838   \"GET /api/v1/sales?page=69 HTTP/1.1\"     499     0         NaN   \n",
       "12598    \"GET /api/v1/sales?page=8 HTTP/1.1\"     499     0         NaN   \n",
       "13106  \"GET /api/v1/sales?page=133 HTTP/1.1\"     499     0         NaN   \n",
       "\n",
       "                  request_agent  \n",
       "1745   \"python-requests/2.20.1\"  \n",
       "1819   \"python-requests/2.20.1\"  \n",
       "4242   \"python-requests/2.21.0\"  \n",
       "4405   \"python-requests/2.21.0\"  \n",
       "4790   \"python-requests/2.21.0\"  \n",
       "4862   \"python-requests/2.21.0\"  \n",
       "4871   \"python-requests/2.21.0\"  \n",
       "5520   \"python-requests/2.21.0\"  \n",
       "5539   \"python-requests/2.21.0\"  \n",
       "6860   \"python-requests/2.20.1\"  \n",
       "6934   \"python-requests/2.20.1\"  \n",
       "8267   \"python-requests/2.21.0\"  \n",
       "8866   \"python-requests/2.21.0\"  \n",
       "10838  \"python-requests/2.21.0\"  \n",
       "12598  \"python-requests/2.21.0\"  \n",
       "13106  \"python-requests/2.21.0\"  "
      ]
     },
     "execution_count": 11,
     "metadata": {},
     "output_type": "execute_result"
    }
   ],
   "source": [
    "df[df.status == 499]"
   ]
  },
  {
   "cell_type": "code",
   "execution_count": 12,
   "metadata": {},
   "outputs": [],
   "source": [
    "# Parse Datetime\n",
    "df.timestamp = df.timestamp.str.replace(r'(\\[|\\])', '', regex=True)\n",
    "df.timestamp= pd.to_datetime(df.timestamp.str.replace(':', ' ', 1)) \n",
    "df = df.set_index('timestamp')"
   ]
  },
  {
   "cell_type": "code",
   "execution_count": 13,
   "metadata": {},
   "outputs": [
    {
     "data": {
      "text/html": [
       "<div>\n",
       "<style scoped>\n",
       "    .dataframe tbody tr th:only-of-type {\n",
       "        vertical-align: middle;\n",
       "    }\n",
       "\n",
       "    .dataframe tbody tr th {\n",
       "        vertical-align: top;\n",
       "    }\n",
       "\n",
       "    .dataframe thead th {\n",
       "        text-align: right;\n",
       "    }\n",
       "</style>\n",
       "<table border=\"1\" class=\"dataframe\">\n",
       "  <thead>\n",
       "    <tr style=\"text-align: right;\">\n",
       "      <th></th>\n",
       "      <th>ip</th>\n",
       "      <th>request_method</th>\n",
       "      <th>status</th>\n",
       "      <th>size</th>\n",
       "      <th>destination</th>\n",
       "      <th>request_agent</th>\n",
       "    </tr>\n",
       "    <tr>\n",
       "      <th>timestamp</th>\n",
       "      <th></th>\n",
       "      <th></th>\n",
       "      <th></th>\n",
       "      <th></th>\n",
       "      <th></th>\n",
       "      <th></th>\n",
       "    </tr>\n",
       "  </thead>\n",
       "  <tbody>\n",
       "    <tr>\n",
       "      <th>2019-04-16 19:34:42+00:00</th>\n",
       "      <td>97.105.19.58</td>\n",
       "      <td>\"GET /api/v1/sales?page=81 HTTP/1.1\"</td>\n",
       "      <td>200</td>\n",
       "      <td>512495</td>\n",
       "      <td>NaN</td>\n",
       "      <td>\"python-requests/2.21.0\"</td>\n",
       "    </tr>\n",
       "    <tr>\n",
       "      <th>2019-04-16 19:34:42+00:00</th>\n",
       "      <td>97.105.19.58</td>\n",
       "      <td>\"GET /api/v1/items HTTP/1.1\"</td>\n",
       "      <td>200</td>\n",
       "      <td>3561</td>\n",
       "      <td>NaN</td>\n",
       "      <td>\"python-requests/2.21.0\"</td>\n",
       "    </tr>\n",
       "    <tr>\n",
       "      <th>2019-04-16 19:34:44+00:00</th>\n",
       "      <td>97.105.19.58</td>\n",
       "      <td>\"GET /api/v1/sales?page=82 HTTP/1.1\"</td>\n",
       "      <td>200</td>\n",
       "      <td>510103</td>\n",
       "      <td>NaN</td>\n",
       "      <td>\"python-requests/2.21.0\"</td>\n",
       "    </tr>\n",
       "    <tr>\n",
       "      <th>2019-04-16 19:34:46+00:00</th>\n",
       "      <td>97.105.19.58</td>\n",
       "      <td>\"GET /api/v1/sales?page=83 HTTP/1.1\"</td>\n",
       "      <td>200</td>\n",
       "      <td>510003</td>\n",
       "      <td>NaN</td>\n",
       "      <td>\"python-requests/2.21.0\"</td>\n",
       "    </tr>\n",
       "    <tr>\n",
       "      <th>2019-04-16 19:34:48+00:00</th>\n",
       "      <td>97.105.19.58</td>\n",
       "      <td>\"GET /api/v1/sales?page=84 HTTP/1.1\"</td>\n",
       "      <td>200</td>\n",
       "      <td>511963</td>\n",
       "      <td>NaN</td>\n",
       "      <td>\"python-requests/2.21.0\"</td>\n",
       "    </tr>\n",
       "  </tbody>\n",
       "</table>\n",
       "</div>"
      ],
      "text/plain": [
       "                                     ip                        request_method  \\\n",
       "timestamp                                                                       \n",
       "2019-04-16 19:34:42+00:00  97.105.19.58  \"GET /api/v1/sales?page=81 HTTP/1.1\"   \n",
       "2019-04-16 19:34:42+00:00  97.105.19.58          \"GET /api/v1/items HTTP/1.1\"   \n",
       "2019-04-16 19:34:44+00:00  97.105.19.58  \"GET /api/v1/sales?page=82 HTTP/1.1\"   \n",
       "2019-04-16 19:34:46+00:00  97.105.19.58  \"GET /api/v1/sales?page=83 HTTP/1.1\"   \n",
       "2019-04-16 19:34:48+00:00  97.105.19.58  \"GET /api/v1/sales?page=84 HTTP/1.1\"   \n",
       "\n",
       "                           status    size destination  \\\n",
       "timestamp                                               \n",
       "2019-04-16 19:34:42+00:00     200  512495         NaN   \n",
       "2019-04-16 19:34:42+00:00     200    3561         NaN   \n",
       "2019-04-16 19:34:44+00:00     200  510103         NaN   \n",
       "2019-04-16 19:34:46+00:00     200  510003         NaN   \n",
       "2019-04-16 19:34:48+00:00     200  511963         NaN   \n",
       "\n",
       "                                      request_agent  \n",
       "timestamp                                            \n",
       "2019-04-16 19:34:42+00:00  \"python-requests/2.21.0\"  \n",
       "2019-04-16 19:34:42+00:00  \"python-requests/2.21.0\"  \n",
       "2019-04-16 19:34:44+00:00  \"python-requests/2.21.0\"  \n",
       "2019-04-16 19:34:46+00:00  \"python-requests/2.21.0\"  \n",
       "2019-04-16 19:34:48+00:00  \"python-requests/2.21.0\"  "
      ]
     },
     "execution_count": 13,
     "metadata": {},
     "output_type": "execute_result"
    }
   ],
   "source": [
    "df.head()"
   ]
  },
  {
   "cell_type": "code",
   "execution_count": 14,
   "metadata": {},
   "outputs": [
    {
     "name": "stdout",
     "output_type": "stream",
     "text": [
      "<class 'pandas.core.frame.DataFrame'>\n",
      "DatetimeIndex: 13978 entries, 2019-04-16 19:34:42+00:00 to 2019-04-19 19:42:41+00:00\n",
      "Data columns (total 6 columns):\n",
      "ip                13978 non-null object\n",
      "request_method    13978 non-null object\n",
      "status            13978 non-null int64\n",
      "size              13978 non-null int64\n",
      "destination       25 non-null object\n",
      "request_agent     13978 non-null object\n",
      "dtypes: int64(2), object(4)\n",
      "memory usage: 764.4+ KB\n"
     ]
    }
   ],
   "source": [
    "df.info()"
   ]
  },
  {
   "cell_type": "code",
   "execution_count": 15,
   "metadata": {},
   "outputs": [
    {
     "data": {
      "text/html": [
       "<div>\n",
       "<style scoped>\n",
       "    .dataframe tbody tr th:only-of-type {\n",
       "        vertical-align: middle;\n",
       "    }\n",
       "\n",
       "    .dataframe tbody tr th {\n",
       "        vertical-align: top;\n",
       "    }\n",
       "\n",
       "    .dataframe thead th {\n",
       "        text-align: right;\n",
       "    }\n",
       "</style>\n",
       "<table border=\"1\" class=\"dataframe\">\n",
       "  <thead>\n",
       "    <tr style=\"text-align: right;\">\n",
       "      <th></th>\n",
       "      <th>ip</th>\n",
       "      <th>request_method</th>\n",
       "      <th>status</th>\n",
       "      <th>size</th>\n",
       "      <th>destination</th>\n",
       "      <th>request_agent</th>\n",
       "    </tr>\n",
       "    <tr>\n",
       "      <th>timestamp</th>\n",
       "      <th></th>\n",
       "      <th></th>\n",
       "      <th></th>\n",
       "      <th></th>\n",
       "      <th></th>\n",
       "      <th></th>\n",
       "    </tr>\n",
       "  </thead>\n",
       "  <tbody>\n",
       "    <tr>\n",
       "      <th>2019-04-16 19:34:42+00:00</th>\n",
       "      <td>97.105.19.58</td>\n",
       "      <td>GET /api/v1/sales HTTP/1.1</td>\n",
       "      <td>200</td>\n",
       "      <td>512495</td>\n",
       "      <td>NaN</td>\n",
       "      <td>python-requests/2.21.0</td>\n",
       "    </tr>\n",
       "    <tr>\n",
       "      <th>2019-04-16 19:34:42+00:00</th>\n",
       "      <td>97.105.19.58</td>\n",
       "      <td>GET /api/v1/items HTTP/1.1</td>\n",
       "      <td>200</td>\n",
       "      <td>3561</td>\n",
       "      <td>NaN</td>\n",
       "      <td>python-requests/2.21.0</td>\n",
       "    </tr>\n",
       "    <tr>\n",
       "      <th>2019-04-16 19:34:44+00:00</th>\n",
       "      <td>97.105.19.58</td>\n",
       "      <td>GET /api/v1/sales HTTP/1.1</td>\n",
       "      <td>200</td>\n",
       "      <td>510103</td>\n",
       "      <td>NaN</td>\n",
       "      <td>python-requests/2.21.0</td>\n",
       "    </tr>\n",
       "    <tr>\n",
       "      <th>2019-04-16 19:34:46+00:00</th>\n",
       "      <td>97.105.19.58</td>\n",
       "      <td>GET /api/v1/sales HTTP/1.1</td>\n",
       "      <td>200</td>\n",
       "      <td>510003</td>\n",
       "      <td>NaN</td>\n",
       "      <td>python-requests/2.21.0</td>\n",
       "    </tr>\n",
       "    <tr>\n",
       "      <th>2019-04-16 19:34:48+00:00</th>\n",
       "      <td>97.105.19.58</td>\n",
       "      <td>GET /api/v1/sales HTTP/1.1</td>\n",
       "      <td>200</td>\n",
       "      <td>511963</td>\n",
       "      <td>NaN</td>\n",
       "      <td>python-requests/2.21.0</td>\n",
       "    </tr>\n",
       "  </tbody>\n",
       "</table>\n",
       "</div>"
      ],
      "text/plain": [
       "                                     ip              request_method  status  \\\n",
       "timestamp                                                                     \n",
       "2019-04-16 19:34:42+00:00  97.105.19.58  GET /api/v1/sales HTTP/1.1     200   \n",
       "2019-04-16 19:34:42+00:00  97.105.19.58  GET /api/v1/items HTTP/1.1     200   \n",
       "2019-04-16 19:34:44+00:00  97.105.19.58  GET /api/v1/sales HTTP/1.1     200   \n",
       "2019-04-16 19:34:46+00:00  97.105.19.58  GET /api/v1/sales HTTP/1.1     200   \n",
       "2019-04-16 19:34:48+00:00  97.105.19.58  GET /api/v1/sales HTTP/1.1     200   \n",
       "\n",
       "                             size destination           request_agent  \n",
       "timestamp                                                              \n",
       "2019-04-16 19:34:42+00:00  512495         NaN  python-requests/2.21.0  \n",
       "2019-04-16 19:34:42+00:00    3561         NaN  python-requests/2.21.0  \n",
       "2019-04-16 19:34:44+00:00  510103         NaN  python-requests/2.21.0  \n",
       "2019-04-16 19:34:46+00:00  510003         NaN  python-requests/2.21.0  \n",
       "2019-04-16 19:34:48+00:00  511963         NaN  python-requests/2.21.0  "
      ]
     },
     "execution_count": 15,
     "metadata": {},
     "output_type": "execute_result"
    }
   ],
   "source": [
    "# Cleanup text\n",
    "for col in ['request_method', 'request_agent', 'destination']:\n",
    "    df[col] = df[col].str.replace('\"', '')\n",
    "\n",
    "df['request_method'] = df.request_method.str.replace(r'\\?page=[0-9]+', '', regex=True)\n",
    "\n",
    "df.head()"
   ]
  },
  {
   "cell_type": "code",
   "execution_count": 16,
   "metadata": {},
   "outputs": [],
   "source": [
    "# Add column converting bytes to mb\n",
    "df['size_mb'] = [n/1024/1024 for n in df['size']]"
   ]
  },
  {
   "cell_type": "code",
   "execution_count": 17,
   "metadata": {},
   "outputs": [
    {
     "data": {
      "text/html": [
       "<div>\n",
       "<style scoped>\n",
       "    .dataframe tbody tr th:only-of-type {\n",
       "        vertical-align: middle;\n",
       "    }\n",
       "\n",
       "    .dataframe tbody tr th {\n",
       "        vertical-align: top;\n",
       "    }\n",
       "\n",
       "    .dataframe thead th {\n",
       "        text-align: right;\n",
       "    }\n",
       "</style>\n",
       "<table border=\"1\" class=\"dataframe\">\n",
       "  <thead>\n",
       "    <tr style=\"text-align: right;\">\n",
       "      <th></th>\n",
       "      <th>status</th>\n",
       "      <th>size</th>\n",
       "      <th>size_mb</th>\n",
       "    </tr>\n",
       "  </thead>\n",
       "  <tbody>\n",
       "    <tr>\n",
       "      <th>count</th>\n",
       "      <td>13978.000000</td>\n",
       "      <td>1.397800e+04</td>\n",
       "      <td>13978.000000</td>\n",
       "    </tr>\n",
       "    <tr>\n",
       "      <th>mean</th>\n",
       "      <td>200.356703</td>\n",
       "      <td>4.500019e+05</td>\n",
       "      <td>0.429155</td>\n",
       "    </tr>\n",
       "    <tr>\n",
       "      <th>std</th>\n",
       "      <td>10.182001</td>\n",
       "      <td>1.614915e+05</td>\n",
       "      <td>0.154010</td>\n",
       "    </tr>\n",
       "    <tr>\n",
       "      <th>min</th>\n",
       "      <td>200.000000</td>\n",
       "      <td>0.000000e+00</td>\n",
       "      <td>0.000000</td>\n",
       "    </tr>\n",
       "    <tr>\n",
       "      <th>25%</th>\n",
       "      <td>200.000000</td>\n",
       "      <td>5.006370e+05</td>\n",
       "      <td>0.477445</td>\n",
       "    </tr>\n",
       "    <tr>\n",
       "      <th>50%</th>\n",
       "      <td>200.000000</td>\n",
       "      <td>5.101380e+05</td>\n",
       "      <td>0.486506</td>\n",
       "    </tr>\n",
       "    <tr>\n",
       "      <th>75%</th>\n",
       "      <td>200.000000</td>\n",
       "      <td>5.112910e+05</td>\n",
       "      <td>0.487605</td>\n",
       "    </tr>\n",
       "    <tr>\n",
       "      <th>max</th>\n",
       "      <td>499.000000</td>\n",
       "      <td>2.056327e+06</td>\n",
       "      <td>1.961066</td>\n",
       "    </tr>\n",
       "  </tbody>\n",
       "</table>\n",
       "</div>"
      ],
      "text/plain": [
       "             status          size       size_mb\n",
       "count  13978.000000  1.397800e+04  13978.000000\n",
       "mean     200.356703  4.500019e+05      0.429155\n",
       "std       10.182001  1.614915e+05      0.154010\n",
       "min      200.000000  0.000000e+00      0.000000\n",
       "25%      200.000000  5.006370e+05      0.477445\n",
       "50%      200.000000  5.101380e+05      0.486506\n",
       "75%      200.000000  5.112910e+05      0.487605\n",
       "max      499.000000  2.056327e+06      1.961066"
      ]
     },
     "execution_count": 17,
     "metadata": {},
     "output_type": "execute_result"
    }
   ],
   "source": [
    "df.describe()"
   ]
  },
  {
   "cell_type": "code",
   "execution_count": 18,
   "metadata": {},
   "outputs": [
    {
     "data": {
      "text/plain": [
       "GET /api/v1/sales HTTP/1.1                      12403\n",
       "GET /api/v1/items HTTP/1.1                       1065\n",
       "GET /api/v1/stores HTTP/1.1                       229\n",
       "GET / HTTP/1.1                                    107\n",
       "GET /documentation HTTP/1.1                       100\n",
       "GET /favicon.ico HTTP/1.1                          26\n",
       "GET /api/v1//api/v1/items HTTP/1.1                 11\n",
       "GET /api/v1/items/api/v1/items HTTP/1.1             7\n",
       "GET /api/v1/items/next_page HTTP/1.1                5\n",
       "GET /api/v1/ HTTP/1.1                               4\n",
       "GET /api/v1/sales/ HTTP/1.1                         3\n",
       "GET /api/v1/sales/HTTP/1.1                          3\n",
       "GET /api/v1/store HTTP/1.1                          3\n",
       "GET /api/v1/itemsitems HTTP/1.1                     3\n",
       "GET /api/v1items HTTP/1.1                           2\n",
       "GET /api/v1 HTTP/1.1                                1\n",
       "GET /api/V1/HiZach! HTTP/1.1                        1\n",
       "GET /api/v1/items&page=0 HTTP/1.1                   1\n",
       "GET /api/v1/I_DIDNT_DO_IT!!!! HTTP/1.1              1\n",
       "GET /api/v1/items/HTTP/1.1                          1\n",
       "GET /api/v1/helloclass! HTTP/1.1                    1\n",
       "GET /api/v1//api/v1/items/next_page HTTP/1.1        1\n",
       "Name: request_method, dtype: int64"
      ]
     },
     "execution_count": 18,
     "metadata": {},
     "output_type": "execute_result"
    }
   ],
   "source": [
    "df.request_method.value_counts()"
   ]
  },
  {
   "cell_type": "code",
   "execution_count": 19,
   "metadata": {},
   "outputs": [
    {
     "data": {
      "text/plain": [
       "python-requests/2.21.0                                                                                                       12005\n",
       "python-requests/2.20.1                                                                                                        1911\n",
       "Mozilla/5.0 (Macintosh; Intel Mac OS X 10_14_4) AppleWebKit/537.36 (KHTML, like Gecko) Chrome/73.0.3683.103 Safari/537.36       34\n",
       "Mozilla/5.0 (Macintosh; Intel Mac OS X 10.14; rv:66.0) Gecko/20100101 Firefox/66.0                                               8\n",
       "Slackbot-LinkExpanding 1.0 (+https://api.slack.com/robots)                                                                       7\n",
       "Slackbot 1.0 (+https://api.slack.com/robots)                                                                                     6\n",
       "Mozilla/5.0 (Macintosh; Intel Mac OS X 10_14_3) AppleWebKit/537.36 (KHTML, like Gecko) Chrome/73.0.3683.103 Safari/537.36        4\n",
       "Mozilla/5.0 (Macintosh; Intel Mac OS X 10_14_3) AppleWebKit/537.36 (KHTML, like Gecko) Chrome/72.0.3626.121 Safari/537.36        2\n",
       "Python-urllib/3.7                                                                                                                1\n",
       "Name: request_agent, dtype: int64"
      ]
     },
     "execution_count": 19,
     "metadata": {},
     "output_type": "execute_result"
    }
   ],
   "source": [
    "df.request_agent.value_counts()\n",
    "# python request library - 2.21.0 version\n",
    "# major_version.minor_version.patch.hotfix\n",
    "# majority of requests are from python inside of codeup"
   ]
  },
  {
   "cell_type": "code",
   "execution_count": 20,
   "metadata": {},
   "outputs": [
    {
     "data": {
      "text/plain": [
       "(0.327, 0.654]       12321\n",
       "(-0.00296, 0.327]     1655\n",
       "(1.634, 1.961]           1\n",
       "(0.981, 1.307]           1\n",
       "(1.307, 1.634]           0\n",
       "(0.654, 0.981]           0\n",
       "Name: size_mb, dtype: int64"
      ]
     },
     "execution_count": 20,
     "metadata": {},
     "output_type": "execute_result"
    }
   ],
   "source": [
    "df.size_mb.value_counts(bins=6)\n",
    "# the negative is a binning anomaly, use domain knowledge to know "
   ]
  },
  {
   "cell_type": "code",
   "execution_count": 21,
   "metadata": {},
   "outputs": [
    {
     "data": {
      "text/html": [
       "<div>\n",
       "<style scoped>\n",
       "    .dataframe tbody tr th:only-of-type {\n",
       "        vertical-align: middle;\n",
       "    }\n",
       "\n",
       "    .dataframe tbody tr th {\n",
       "        vertical-align: top;\n",
       "    }\n",
       "\n",
       "    .dataframe thead tr th {\n",
       "        text-align: left;\n",
       "    }\n",
       "\n",
       "    .dataframe thead tr:last-of-type th {\n",
       "        text-align: right;\n",
       "    }\n",
       "</style>\n",
       "<table border=\"1\" class=\"dataframe\">\n",
       "  <thead>\n",
       "    <tr>\n",
       "      <th></th>\n",
       "      <th>ip</th>\n",
       "      <th>request_method</th>\n",
       "      <th>status</th>\n",
       "      <th>size</th>\n",
       "      <th>destination</th>\n",
       "      <th>request_agent</th>\n",
       "      <th>size_mb</th>\n",
       "    </tr>\n",
       "    <tr>\n",
       "      <th></th>\n",
       "      <th>count</th>\n",
       "      <th>count</th>\n",
       "      <th>count</th>\n",
       "      <th>count</th>\n",
       "      <th>count</th>\n",
       "      <th>count</th>\n",
       "      <th>count</th>\n",
       "    </tr>\n",
       "    <tr>\n",
       "      <th>timestamp</th>\n",
       "      <th></th>\n",
       "      <th></th>\n",
       "      <th></th>\n",
       "      <th></th>\n",
       "      <th></th>\n",
       "      <th></th>\n",
       "      <th></th>\n",
       "    </tr>\n",
       "  </thead>\n",
       "  <tbody>\n",
       "    <tr>\n",
       "      <th>1</th>\n",
       "      <td>11947</td>\n",
       "      <td>11947</td>\n",
       "      <td>11947</td>\n",
       "      <td>11947</td>\n",
       "      <td>22</td>\n",
       "      <td>11947</td>\n",
       "      <td>11947</td>\n",
       "    </tr>\n",
       "    <tr>\n",
       "      <th>2</th>\n",
       "      <td>2028</td>\n",
       "      <td>2028</td>\n",
       "      <td>2028</td>\n",
       "      <td>2028</td>\n",
       "      <td>3</td>\n",
       "      <td>2028</td>\n",
       "      <td>2028</td>\n",
       "    </tr>\n",
       "    <tr>\n",
       "      <th>3</th>\n",
       "      <td>1</td>\n",
       "      <td>1</td>\n",
       "      <td>1</td>\n",
       "      <td>1</td>\n",
       "      <td>0</td>\n",
       "      <td>1</td>\n",
       "      <td>1</td>\n",
       "    </tr>\n",
       "    <tr>\n",
       "      <th>4</th>\n",
       "      <td>1</td>\n",
       "      <td>1</td>\n",
       "      <td>1</td>\n",
       "      <td>1</td>\n",
       "      <td>0</td>\n",
       "      <td>1</td>\n",
       "      <td>1</td>\n",
       "    </tr>\n",
       "    <tr>\n",
       "      <th>6</th>\n",
       "      <td>1</td>\n",
       "      <td>1</td>\n",
       "      <td>1</td>\n",
       "      <td>1</td>\n",
       "      <td>0</td>\n",
       "      <td>1</td>\n",
       "      <td>1</td>\n",
       "    </tr>\n",
       "  </tbody>\n",
       "</table>\n",
       "</div>"
      ],
      "text/plain": [
       "              ip request_method status   size destination request_agent  \\\n",
       "           count          count  count  count       count         count   \n",
       "timestamp                                                                 \n",
       "1          11947          11947  11947  11947          22         11947   \n",
       "2           2028           2028   2028   2028           3          2028   \n",
       "3              1              1      1      1           0             1   \n",
       "4              1              1      1      1           0             1   \n",
       "6              1              1      1      1           0             1   \n",
       "\n",
       "          size_mb  \n",
       "            count  \n",
       "timestamp          \n",
       "1           11947  \n",
       "2            2028  \n",
       "3               1  \n",
       "4               1  \n",
       "6               1  "
      ]
     },
     "execution_count": 21,
     "metadata": {},
     "output_type": "execute_result"
    }
   ],
   "source": [
    "# majority of requests come in on Tuesday, with some on Wednesday\n",
    "df.groupby(df.index.dayofweek).agg(['count'])"
   ]
  },
  {
   "cell_type": "code",
   "execution_count": null,
   "metadata": {},
   "outputs": [],
   "source": [
    "# data doesnt include any Monday traffic\n",
    "# most traffic is on Tuesday, some on Wednesday\n",
    "# most requests are between .327MB and .654MB"
   ]
  },
  {
   "cell_type": "markdown",
   "metadata": {},
   "source": [
    "Detecting Anomalies in Discrete Variables"
   ]
  },
  {
   "cell_type": "code",
   "execution_count": 23,
   "metadata": {},
   "outputs": [
    {
     "data": {
      "text/plain": [
       "timestamp\n",
       "2019-04-16 19:34:42+00:00     GET /api/v1/sales HTTP/1.1\n",
       "2019-04-16 19:34:42+00:00     GET /api/v1/items HTTP/1.1\n",
       "2019-04-16 19:34:44+00:00     GET /api/v1/sales HTTP/1.1\n",
       "2019-04-16 19:34:46+00:00     GET /api/v1/sales HTTP/1.1\n",
       "2019-04-16 19:34:48+00:00     GET /api/v1/sales HTTP/1.1\n",
       "2019-04-16 19:34:48+00:00    GET /api/v1/stores HTTP/1.1\n",
       "2019-04-16 19:34:50+00:00     GET /api/v1/sales HTTP/1.1\n",
       "2019-04-16 19:34:52+00:00     GET /api/v1/sales HTTP/1.1\n",
       "2019-04-16 19:34:52+00:00                 GET / HTTP/1.1\n",
       "2019-04-16 19:34:53+00:00     GET /api/v1/items HTTP/1.1\n",
       "2019-04-16 19:34:53+00:00     GET /api/v1/items HTTP/1.1\n",
       "2019-04-16 19:34:53+00:00     GET /api/v1/items HTTP/1.1\n",
       "2019-04-16 19:34:54+00:00     GET /api/v1/sales HTTP/1.1\n",
       "2019-04-16 19:34:54+00:00     GET /api/v1/sales HTTP/1.1\n",
       "2019-04-16 19:34:56+00:00     GET /api/v1/sales HTTP/1.1\n",
       "2019-04-16 19:34:58+00:00     GET /api/v1/sales HTTP/1.1\n",
       "2019-04-16 19:35:01+00:00     GET /api/v1/sales HTTP/1.1\n",
       "2019-04-16 19:35:03+00:00     GET /api/v1/sales HTTP/1.1\n",
       "2019-04-16 19:35:05+00:00     GET /api/v1/sales HTTP/1.1\n",
       "2019-04-16 19:35:07+00:00     GET /api/v1/sales HTTP/1.1\n",
       "2019-04-16 19:35:09+00:00     GET /api/v1/sales HTTP/1.1\n",
       "2019-04-16 19:35:10+00:00     GET /api/v1/sales HTTP/1.1\n",
       "2019-04-16 19:35:12+00:00     GET /api/v1/sales HTTP/1.1\n",
       "2019-04-16 19:35:14+00:00     GET /api/v1/sales HTTP/1.1\n",
       "2019-04-16 19:35:16+00:00     GET /api/v1/sales HTTP/1.1\n",
       "2019-04-16 19:35:18+00:00     GET /api/v1/sales HTTP/1.1\n",
       "2019-04-16 19:35:20+00:00     GET /api/v1/sales HTTP/1.1\n",
       "2019-04-16 19:35:22+00:00     GET /api/v1/sales HTTP/1.1\n",
       "2019-04-16 19:35:24+00:00     GET /api/v1/sales HTTP/1.1\n",
       "2019-04-16 19:35:26+00:00     GET /api/v1/sales HTTP/1.1\n",
       "                                        ...             \n",
       "2019-04-17 12:54:50+00:00     GET /api/v1/sales HTTP/1.1\n",
       "2019-04-17 12:54:51+00:00     GET /api/v1/sales HTTP/1.1\n",
       "2019-04-17 12:54:53+00:00     GET /api/v1/sales HTTP/1.1\n",
       "2019-04-17 12:54:54+00:00     GET /api/v1/sales HTTP/1.1\n",
       "2019-04-17 12:54:54+00:00     GET /api/v1/sales HTTP/1.1\n",
       "2019-04-17 12:54:55+00:00     GET /api/v1/sales HTTP/1.1\n",
       "2019-04-17 12:54:57+00:00     GET /api/v1/sales HTTP/1.1\n",
       "2019-04-17 12:54:58+00:00     GET /api/v1/sales HTTP/1.1\n",
       "2019-04-17 12:54:59+00:00     GET /api/v1/sales HTTP/1.1\n",
       "2019-04-17 12:54:59+00:00     GET /api/v1/sales HTTP/1.1\n",
       "2019-04-17 12:55:00+00:00     GET /api/v1/sales HTTP/1.1\n",
       "2019-04-17 12:55:01+00:00     GET /api/v1/sales HTTP/1.1\n",
       "2019-04-17 12:55:03+00:00     GET /api/v1/sales HTTP/1.1\n",
       "2019-04-17 12:55:03+00:00     GET /api/v1/sales HTTP/1.1\n",
       "2019-04-17 12:55:04+00:00     GET /api/v1/sales HTTP/1.1\n",
       "2019-04-17 12:55:06+00:00     GET /api/v1/sales HTTP/1.1\n",
       "2019-04-17 12:55:06+00:00     GET /api/v1/sales HTTP/1.1\n",
       "2019-04-17 12:55:08+00:00     GET /api/v1/sales HTTP/1.1\n",
       "2019-04-17 12:55:09+00:00     GET /api/v1/sales HTTP/1.1\n",
       "2019-04-17 12:55:09+00:00     GET /api/v1/sales HTTP/1.1\n",
       "2019-04-17 12:55:09+00:00     GET /api/v1/sales HTTP/1.1\n",
       "2019-04-17 12:55:12+00:00     GET /api/v1/sales HTTP/1.1\n",
       "2019-04-17 12:55:12+00:00     GET /api/v1/sales HTTP/1.1\n",
       "2019-04-17 12:55:13+00:00     GET /api/v1/sales HTTP/1.1\n",
       "2019-04-17 12:55:13+00:00     GET /api/v1/sales HTTP/1.1\n",
       "2019-04-17 12:55:14+00:00     GET /api/v1/sales HTTP/1.1\n",
       "2019-04-21 10:02:41+00:00     GET /api/v1/items/HTTP/1.1\n",
       "2019-04-17 19:36:41+00:00     GET /api/v1/sales/HTTP/1.1\n",
       "2019-04-18 19:42:41+00:00     GET /api/v1/sales/HTTP/1.1\n",
       "2019-04-19 19:42:41+00:00     GET /api/v1/sales/HTTP/1.1\n",
       "Name: request_method, Length: 13978, dtype: object"
      ]
     },
     "execution_count": 23,
     "metadata": {},
     "output_type": "execute_result"
    }
   ],
   "source": [
    "df.request_method"
   ]
  },
  {
   "cell_type": "code",
   "execution_count": 33,
   "metadata": {},
   "outputs": [
    {
     "data": {
      "text/plain": [
       "timestamp\n",
       "2019-04-16 19:34:42+00:00    [GET, /api/v1/sales, HTTP/1.1]\n",
       "2019-04-16 19:34:42+00:00    [GET, /api/v1/items, HTTP/1.1]\n",
       "2019-04-16 19:34:44+00:00    [GET, /api/v1/sales, HTTP/1.1]\n",
       "2019-04-16 19:34:46+00:00    [GET, /api/v1/sales, HTTP/1.1]\n",
       "2019-04-16 19:34:48+00:00    [GET, /api/v1/sales, HTTP/1.1]\n",
       "Name: request_method, dtype: object"
      ]
     },
     "execution_count": 33,
     "metadata": {},
     "output_type": "execute_result"
    }
   ],
   "source": [
    "df.parts = df.request_method.str.split(\" \")\n",
    "df.parts.head()"
   ]
  },
  {
   "cell_type": "code",
   "execution_count": 34,
   "metadata": {},
   "outputs": [],
   "source": [
    "df['http_method'] = df.parts.apply(lambda x: x[0])"
   ]
  },
  {
   "cell_type": "code",
   "execution_count": 36,
   "metadata": {},
   "outputs": [
    {
     "data": {
      "text/plain": [
       "timestamp\n",
       "2019-04-16 19:34:42+00:00    GET\n",
       "2019-04-16 19:34:42+00:00    GET\n",
       "2019-04-16 19:34:44+00:00    GET\n",
       "2019-04-16 19:34:46+00:00    GET\n",
       "2019-04-16 19:34:48+00:00    GET\n",
       "Name: http_method, dtype: object"
      ]
     },
     "execution_count": 36,
     "metadata": {},
     "output_type": "execute_result"
    }
   ],
   "source": [
    "df.http_method.head()"
   ]
  },
  {
   "cell_type": "code",
   "execution_count": 37,
   "metadata": {},
   "outputs": [
    {
     "data": {
      "text/plain": [
       "GET    13978\n",
       "Name: http_method, dtype: int64"
      ]
     },
     "execution_count": 37,
     "metadata": {},
     "output_type": "execute_result"
    }
   ],
   "source": [
    "# all downloads\n",
    "df.http_method.value_counts()"
   ]
  },
  {
   "cell_type": "code",
   "execution_count": 42,
   "metadata": {},
   "outputs": [],
   "source": [
    "# isolate request endpoint\n",
    "df['endpoints'] = df.parts.apply(lambda x: x[1])"
   ]
  },
  {
   "cell_type": "code",
   "execution_count": 43,
   "metadata": {},
   "outputs": [
    {
     "data": {
      "text/plain": [
       "/api/v1/sales                      12403\n",
       "/api/v1/items                       1065\n",
       "/api/v1/stores                       229\n",
       "/                                    107\n",
       "/documentation                       100\n",
       "/favicon.ico                          26\n",
       "/api/v1//api/v1/items                 11\n",
       "/api/v1/items/api/v1/items             7\n",
       "/api/v1/items/next_page                5\n",
       "/api/v1/                               4\n",
       "/api/v1/sales/                         3\n",
       "/api/v1/sales/HTTP/1.1                 3\n",
       "/api/v1/itemsitems                     3\n",
       "/api/v1/store                          3\n",
       "/api/v1items                           2\n",
       "/api/v1//api/v1/items/next_page        1\n",
       "/api/v1/items/HTTP/1.1                 1\n",
       "/api/v1                                1\n",
       "/api/v1/I_DIDNT_DO_IT!!!!              1\n",
       "/api/v1/items&page=0                   1\n",
       "/api/V1/HiZach!                        1\n",
       "/api/v1/helloclass!                    1\n",
       "Name: endpoints, dtype: int64"
      ]
     },
     "execution_count": 43,
     "metadata": {},
     "output_type": "execute_result"
    }
   ],
   "source": [
    "# most of the activity is coming from codeup\n",
    "# some interesting anomalies\n",
    "df.endpoints.value_counts()"
   ]
  },
  {
   "cell_type": "code",
   "execution_count": null,
   "metadata": {},
   "outputs": [],
   "source": [
    "# by peeling away the parts of an api, can better find anomalies\n",
    "# can search where api is being accessed, location"
   ]
  }
 ],
 "metadata": {
  "kernelspec": {
   "display_name": "Python 3",
   "language": "python",
   "name": "python3"
  },
  "language_info": {
   "codemirror_mode": {
    "name": "ipython",
    "version": 3
   },
   "file_extension": ".py",
   "mimetype": "text/x-python",
   "name": "python",
   "nbconvert_exporter": "python",
   "pygments_lexer": "ipython3",
   "version": "3.7.3"
  },
  "toc": {
   "base_numbering": 1,
   "nav_menu": {},
   "number_sections": true,
   "sideBar": true,
   "skip_h1_title": false,
   "title_cell": "Table of Contents",
   "title_sidebar": "Contents",
   "toc_cell": false,
   "toc_position": {},
   "toc_section_display": true,
   "toc_window_display": false
  }
 },
 "nbformat": 4,
 "nbformat_minor": 2
}
