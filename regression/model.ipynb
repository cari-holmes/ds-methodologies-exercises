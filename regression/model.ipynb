{
 "cells": [
  {
   "cell_type": "markdown",
   "metadata": {},
   "source": [
    "Our scenario continues:\n",
    "\n",
    "As a customer analyst, I want to know who has spent the most money with us over their lifetime. I have monthly charges and tenure, so I think I will be able to use those two attributes as features to estimate total_charges. I need to do this within an average of $5.00 per customer.\n",
    "\n",
    "#### Create a notebook named model.ipynb.\n",
    "#### Run all your previous scripts that acquired, prepared, split, and scaled your data."
   ]
  },
  {
   "cell_type": "code",
   "execution_count": 29,
   "metadata": {},
   "outputs": [
    {
     "name": "stdout",
     "output_type": "stream",
     "text": [
      "<class 'pandas.core.frame.DataFrame'>\n",
      "Int64Index: 1685 entries, 0 to 1694\n",
      "Data columns (total 4 columns):\n",
      "customer_id        1685 non-null object\n",
      "monthly_charges    1685 non-null float64\n",
      "tenure             1685 non-null int64\n",
      "total_charges      1685 non-null float64\n",
      "dtypes: float64(2), int64(1), object(1)\n",
      "memory usage: 65.8+ KB\n"
     ]
    }
   ],
   "source": [
    "import pandas as pd\n",
    "import numpy as np\n",
    "import matplotlib.pyplot as plt\n",
    "import seaborn as sns\n",
    "from sklearn.model_selection import train_test_split\n",
    "from sklearn.preprocessing import StandardScaler, MinMaxScaler\n",
    "from sklearn.metrics import mean_squared_error, r2_score, explained_variance_score\n",
    "from sklearn.linear_model import LinearRegression\n",
    "from math import sqrt\n",
    "import warnings\n",
    "warnings.filterwarnings(\"ignore\")\n",
    "\n",
    "import env\n",
    "import wrangle\n",
    "import split_scale\n",
    "import features\n",
    "\n",
    "df = wrangle.wrangle_telco()\n",
    "df.head()\n",
    "df.info()"
   ]
  },
  {
   "cell_type": "code",
   "execution_count": 11,
   "metadata": {},
   "outputs": [
    {
     "data": {
      "text/plain": [
       "(     customer_id  monthly_charges  tenure  total_charges\n",
       " 119   0707-HOVVN            75.50      70        5212.65\n",
       " 1424  8380-MQINP            20.30      55        1079.05\n",
       " 385   2307-FYNNL           109.05      65        7108.20\n",
       " 1140  6797-LNAQX            98.30      70        6859.50\n",
       " 1504  8879-XUAHX           116.25      71        8564.75\n",
       " 435   2632-IVXVF           111.75      68        7511.30\n",
       " 571   3474-BAFSJ            57.50      57        3265.95\n",
       " 656   3933-DQPWX            39.70      50        1932.75\n",
       " 756   4683-WYDOU           107.60      62        6912.70\n",
       " 574   3500-NSDOA            70.80      68        4859.95\n",
       " 1216  7197-VOJMM            69.20      67        4671.65\n",
       " 1057  6370-ZVHDV            25.30      61        1554.90\n",
       " 1134  6749-UTDVX           103.65      72        7634.80\n",
       " 1253  7480-SPLEF            26.00      69        1796.55\n",
       " 1035  6253-GNHWH            71.10      71        5224.95\n",
       " 775   4785-FCIFB            24.40      61        1417.90\n",
       " 1403  8232-UTFOZ            19.95      69        1399.35\n",
       " 515   3170-NMYVV            20.15      50         930.90\n",
       " 1106  6625-FLENO            20.75      58        1185.95\n",
       " 1694  9995-HOTOH            59.00      63        3707.60\n",
       " 1090  6556-DBKZF            76.05      71        5436.45\n",
       " 1517  8957-THMOA            20.15      50         970.85\n",
       " 132   0780-XNZFN            20.65      57        1125.60\n",
       " 1040  6285-FTQBF            25.55      72        1867.70\n",
       " 72    0442-TDYUO            20.05      48        1036.00\n",
       " 551   3373-DIUUN            21.25      30         711.90\n",
       " 1028  6203-HBZPA            63.90      52        3334.95\n",
       " 1432  8434-PNQZX            78.45      42        3373.40\n",
       " 898   5440-FLBQG           108.40      69        7318.20\n",
       " 1460  8619-IJNDK            64.05      71        4492.90\n",
       " ...          ...              ...     ...            ...\n",
       " 2     0016-QLJIS            90.45      65        5957.90\n",
       " 454   2789-CZANW           110.30      64        6997.30\n",
       " 1101  6614-YOLAC            58.65      71        4145.25\n",
       " 1241  7359-WWYJV           114.45      72        8375.05\n",
       " 613   3704-IEAXF            53.65      72        3784.00\n",
       " 422   2535-PBCGC            64.55      70        4504.90\n",
       " 1286  7622-FWGEW            85.65      56        4824.45\n",
       " 854   5197-YPYBZ            25.25      12         274.70\n",
       " 1373  8143-ETQTI            19.65      23         451.55\n",
       " 1443  8513-OLYGY           115.80      72        8332.15\n",
       " 111   0625-AFOHS            20.20      29         558.80\n",
       " 224   1302-TPUBN            19.35      66        1240.80\n",
       " 951   5766-FTRTS            84.45      72        6033.10\n",
       " 1578  9339-FIIJL            85.95      72        6151.90\n",
       " 73    0454-OKRCT            80.60      33        2651.10\n",
       " 47    0323-XWWTN            26.40       3         121.25\n",
       " 643   3873-WOSBC            25.60      67        1784.90\n",
       " 113   0640-YJTPY            21.00      72        1493.75\n",
       " 96    0562-HKHML            23.90      71        1626.40\n",
       " 1247  7416-CKTEP            19.60      57        1134.25\n",
       " 1603  9488-FVZCC            79.50      72        5661.70\n",
       " 1156  6900-RBKER            89.45      52        4577.75\n",
       " 106   0613-WUXUM            19.20      70        1401.40\n",
       " 1629  9593-CVZKR            24.45      56        1385.85\n",
       " 1050  6340-DACFT            20.55      50        1070.25\n",
       " 1131  6734-JDTTV            19.85      65        1267.05\n",
       " 1356  8043-PNYSD            19.55      63        1245.60\n",
       " 1416  8314-HTWVE            19.85       7         144.15\n",
       " 1399  8221-HVAYI            69.15      35        2490.15\n",
       " 1544  9108-EQPNQ            26.10      10         225.55\n",
       " \n",
       " [1348 rows x 4 columns],\n",
       "      customer_id  monthly_charges  tenure  total_charges\n",
       " 305   1927-QEWMY            20.50      72        1502.25\n",
       " 452   2773-OVBPK           111.30      67        7567.20\n",
       " 917   5574-NXZIU           109.20      63        7049.75\n",
       " 1421  8347-GDTMP            19.45      64        1225.65\n",
       " 1557  9178-JHUVJ            24.10      24         587.40\n",
       " 103   0604-THJFP            75.95      59        4542.35\n",
       " 167   0979-MOZQI            39.00      62        2337.45\n",
       " 1473  8701-DGLVH            20.45      51        1042.65\n",
       " 1201  7134-HBPBS           108.10      72        7774.05\n",
       " 1451  8571-ZCMCX            60.00      47        2768.65\n",
       " 815   5010-IPEAQ            54.20      67        3623.95\n",
       " 616   3717-FDJFU            20.45       5         106.90\n",
       " 229   1325-USMEC            99.35      70        6944.50\n",
       " 333   2072-ZVJJX            25.25      68        1728.20\n",
       " 786   4836-WNFNO            25.00      72        1849.20\n",
       " 184   1092-WPIVQ            25.10      18         428.45\n",
       " 209   1231-YNDEK            19.15      58        1035.50\n",
       " 651   3908-MKIMJ            41.95      68        2965.75\n",
       " 1594  9424-CMPOG            19.60       9         197.40\n",
       " 344   2146-EGVDT            19.30      59        1192.70\n",
       " 962   5816-JMLGY            80.40      70        5717.85\n",
       " 1202  7138-GIRSH            69.50      50        3418.20\n",
       " 587   3549-ZTMNH            24.00      12         269.65\n",
       " 1126  6726-NNFWD            89.45      71        6435.25\n",
       " 382   2296-DKZFP            71.00      65        4386.20\n",
       " 206   1221-GHZEP            65.10      62        3846.75\n",
       " 1235  7322-OCWHC            93.05      72        6735.05\n",
       " 50    0343-QLUZP            39.60      60        2424.50\n",
       " 1686  9950-MTGYX            20.30      28         487.95\n",
       " 28    0229-LFJAF            69.65      72        4908.25\n",
       " ...          ...              ...     ...            ...\n",
       " 317   1982-FEBTD            25.60      23         514.75\n",
       " 221   1293-BSEUN            20.70      72        1482.30\n",
       " 171   1043-UXOVO           113.15      71        7993.30\n",
       " 48    0336-KXKFK            61.20      72        4390.25\n",
       " 321   2001-EWBQU           104.70      60        6333.80\n",
       " 1386  8174-TBVCF            94.80      70        6859.05\n",
       " 429   2595-KIWPV            19.70      27         509.30\n",
       " 1681  9928-BZVLZ            49.85      12         552.10\n",
       " 1176  6999-CHVCF           102.10      68        7149.35\n",
       " 635   3810-PJUHR            25.35      70        1715.15\n",
       " 1576  9330-VOFSZ           110.80      60        6640.70\n",
       " 1672  9871-ELEYA            67.65      34        2339.30\n",
       " 329   2040-XBAVJ           114.45      72        8100.55\n",
       " 1488  8780-YRMTT            47.40      66        3177.25\n",
       " 1184  7025-WCBNE            59.60      47        2754.00\n",
       " 433   2616-FLVQC            19.55      64        1240.15\n",
       " 1003  6035-RIIOM            97.20      54        5129.45\n",
       " 708   4312-GVYNH            49.85      70        3370.20\n",
       " 862   5236-PERKL           112.95      57        6465.00\n",
       " 1242  7375-WMVMT            95.50      71        6707.15\n",
       " 825   5089-IFSDP           109.45      58        6144.55\n",
       " 1262  7519-JTWQH           110.50      69        7455.45\n",
       " 548   3352-RICWQ            19.75       9         210.65\n",
       " 1583  9365-CSLBQ            24.35      71        1654.60\n",
       " 5     0019-EFAEP           101.30      72        7261.25\n",
       " 1642  9675-ICXCT            80.80      72        5728.55\n",
       " 460   2808-CHTDM            25.10      23         611.45\n",
       " 1170  6976-BWGLQ            25.20      72        1787.35\n",
       " 1083  6516-NKQBO            81.00      38        3084.90\n",
       " 1321  7815-PDTHL            20.20      35         684.40\n",
       " \n",
       " [337 rows x 4 columns])"
      ]
     },
     "execution_count": 11,
     "metadata": {},
     "output_type": "execute_result"
    }
   ],
   "source": [
    "train, test = split_scale.split_my_data(df)\n",
    "train, test"
   ]
  },
  {
   "cell_type": "code",
   "execution_count": null,
   "metadata": {},
   "outputs": [],
   "source": [
    "# x = df.drop(columns=['customer_id', 'total_charges'])\n",
    "# y = pd.DataFrame(df['total_charges'])"
   ]
  },
  {
   "cell_type": "code",
   "execution_count": 17,
   "metadata": {},
   "outputs": [
    {
     "data": {
      "text/plain": [
       "(StandardScaler(copy=True, with_mean=True, with_std=True),\n",
       "       monthly_charges    tenure\n",
       " 119          0.419607  0.729412\n",
       " 1424        -1.169158 -0.130571\n",
       " 385          1.385242  0.442751\n",
       " 1140         1.075836  0.729412\n",
       " 1504         1.592472  0.786745\n",
       " 435          1.462954  0.614748\n",
       " 571         -0.098468 -0.015907\n",
       " 656         -0.610787 -0.417232\n",
       " 756          1.343508  0.270754\n",
       " 574          0.284332  0.614748\n",
       " 1216         0.238281  0.557416\n",
       " 1057        -1.025248  0.213422\n",
       " 1134         1.229820  0.844077\n",
       " 1253        -1.005100  0.672080\n",
       " 1035         0.292967  0.786745\n",
       " 775         -1.051152  0.213422\n",
       " 1403        -1.179231  0.672080\n",
       " 515         -1.173475 -0.417232\n",
       " 1106        -1.156206  0.041426\n",
       " 1694        -0.055295  0.328087\n",
       " 1090         0.435437  0.786745\n",
       " 1517        -1.173475 -0.417232\n",
       " 132         -1.159084 -0.015907\n",
       " 1040        -1.018052  0.844077\n",
       " 72          -1.176353 -0.531897\n",
       " 551         -1.141815 -1.563877\n",
       " 1028         0.085736 -0.302568\n",
       " 1432         0.504514 -0.875890\n",
       " 898          1.366534  0.672080\n",
       " 1460         0.090054  0.786745\n",
       " ...               ...       ...\n",
       " 2            0.849898  0.442751\n",
       " 454          1.421220  0.385419\n",
       " 1101        -0.065369  0.786745\n",
       " 1241         1.540665  0.844077\n",
       " 613         -0.209279  0.844077\n",
       " 422          0.104445  0.729412\n",
       " 1286         0.711744 -0.073239\n",
       " 854         -1.026687 -2.595857\n",
       " 1373        -1.187866 -1.965203\n",
       " 1443         1.579521  0.844077\n",
       " 111         -1.172036 -1.621209\n",
       " 224         -1.196500  0.500083\n",
       " 951          0.677206  0.844077\n",
       " 1578         0.720379  0.844077\n",
       " 73           0.566395 -1.391880\n",
       " 47          -0.993588 -3.111847\n",
       " 643         -1.016613  0.557416\n",
       " 113         -1.149010  0.844077\n",
       " 96          -1.065542  0.786745\n",
       " 1247        -1.189305 -0.015907\n",
       " 1603         0.534735  0.844077\n",
       " 1156         0.821116 -0.302568\n",
       " 106         -1.200818  0.729412\n",
       " 1629        -1.049712 -0.073239\n",
       " 1050        -1.161962 -0.417232\n",
       " 1131        -1.182109  0.442751\n",
       " 1356        -1.190744  0.328087\n",
       " 1416        -1.182109 -2.882519\n",
       " 1399         0.236842 -1.277216\n",
       " 1544        -1.002222 -2.710522\n",
       " \n",
       " [1348 rows x 2 columns],\n",
       "       monthly_charges    tenure\n",
       " 305         -1.163401  0.844077\n",
       " 452          1.450002  0.557416\n",
       " 917          1.389560  0.328087\n",
       " 1421        -1.193622  0.385419\n",
       " 1557        -1.059786 -1.907870\n",
       " 103          0.432559  0.098758\n",
       " 167         -0.630935  0.270754\n",
       " 1473        -1.164840 -0.359900\n",
       " 1201         1.357899  0.844077\n",
       " 1451        -0.026513 -0.589229\n",
       " 815         -0.193449  0.557416\n",
       " 616         -1.164840 -2.997183\n",
       " 229          1.106057  0.729412\n",
       " 333         -1.026687  0.614748\n",
       " 786         -1.033882  0.844077\n",
       " 184         -1.031004 -2.251864\n",
       " 209         -1.202257  0.041426\n",
       " 651         -0.546028  0.614748\n",
       " 1594        -1.189305 -2.767854\n",
       " 344         -1.197940  0.098758\n",
       " 962          0.560639  0.729412\n",
       " 1202         0.246915 -0.417232\n",
       " 587         -1.062664 -2.595857\n",
       " 1126         0.821116  0.786745\n",
       " 382          0.290088  0.442751\n",
       " 206          0.120275  0.270754\n",
       " 1235         0.924731  0.844077\n",
       " 50          -0.613666  0.156090\n",
       " 1686        -1.169158 -1.678542\n",
       " 28           0.251233  0.844077\n",
       " ...               ...       ...\n",
       " 317         -1.016613 -1.965203\n",
       " 221         -1.157645  0.844077\n",
       " 171          1.503248  0.786745\n",
       " 48           0.008025  0.844077\n",
       " 321          1.260041  0.156090\n",
       " 1386         0.975099  0.729412\n",
       " 429         -1.186427 -1.735874\n",
       " 1681        -0.318650 -2.595857\n",
       " 1176         1.185208  0.614748\n",
       " 635         -1.023809  0.729412\n",
       " 1576         1.435611  0.156090\n",
       " 1672         0.193669 -1.334548\n",
       " 329          1.540665  0.844077\n",
       " 1488        -0.389166  0.500083\n",
       " 1184        -0.038026 -0.589229\n",
       " 433         -1.190744  0.385419\n",
       " 1003         1.044176 -0.187903\n",
       " 708         -0.318650  0.729412\n",
       " 862          1.497492 -0.015907\n",
       " 1242         0.995247  0.786745\n",
       " 825          1.396755  0.041426\n",
       " 1262         1.426976  0.672080\n",
       " 548         -1.184988 -2.767854\n",
       " 1583        -1.052591  0.786745\n",
       " 5            1.162182  0.844077\n",
       " 1642         0.572152  0.844077\n",
       " 460         -1.031004 -1.965203\n",
       " 1170        -1.028126  0.844077\n",
       " 1083         0.577908 -1.105219\n",
       " 1321        -1.172036 -1.277216\n",
       " \n",
       " [337 rows x 2 columns])"
      ]
     },
     "execution_count": 17,
     "metadata": {},
     "output_type": "execute_result"
    }
   ],
   "source": [
    "scaler, train_scaled, test_scaled = split_scale.standard_scaler(train.drop(columns=['customer_id', 'total_charges']), test.drop(columns=['customer_id', 'total_charges']))\n",
    "scaler, train_scaled, test_scaled"
   ]
  },
  {
   "cell_type": "code",
   "execution_count": 22,
   "metadata": {},
   "outputs": [],
   "source": [
    "x_train = train_scaled\n",
    "y_train = train[['total_charges']]\n",
    "x_test = test_scaled\n",
    "y_test = test[['total_charges']]"
   ]
  },
  {
   "cell_type": "markdown",
   "metadata": {},
   "source": [
    "### Select your features using your features script."
   ]
  },
  {
   "cell_type": "code",
   "execution_count": 23,
   "metadata": {},
   "outputs": [
    {
     "data": {
      "text/plain": [
       "(2, 0.9635878360528035)"
      ]
     },
     "execution_count": 23,
     "metadata": {},
     "output_type": "execute_result"
    }
   ],
   "source": [
    "features.optimal_n_features(x_train, y_train)"
   ]
  },
  {
   "cell_type": "code",
   "execution_count": 24,
   "metadata": {},
   "outputs": [
    {
     "data": {
      "text/plain": [
       "Index(['monthly_charges', 'tenure'], dtype='object')"
      ]
     },
     "execution_count": 24,
     "metadata": {},
     "output_type": "execute_result"
    }
   ],
   "source": [
    "features.top_features(x_train, y_train, 2)"
   ]
  },
  {
   "cell_type": "markdown",
   "metadata": {},
   "source": [
    "### Fit 2 different linear models to your data."
   ]
  },
  {
   "cell_type": "code",
   "execution_count": 35,
   "metadata": {},
   "outputs": [],
   "source": [
    "predictions=pd.DataFrame({'actual':y_train.total_charges}).reset_index(drop=True)\n",
    "# model 1\n",
    "lm1 = LinearRegression()\n",
    "lm1.fit(x_train[['monthly_charges', 'tenure']], y_train)\n",
    "lm1_predictions = lm1.predict(x_train[['monthly_charges', 'tenure']])\n",
    "predictions['lm1'] = lm1_predictions"
   ]
  },
  {
   "cell_type": "code",
   "execution_count": 37,
   "metadata": {},
   "outputs": [],
   "source": [
    "# model 2\n",
    "lm2 = LinearRegression()\n",
    "lm2.fit(x_train[['tenure']], y_train)\n",
    "lm2_predictions = lm2.predict(x_train[['tenure']])\n",
    "predictions['lm2'] = lm2_predictions"
   ]
  },
  {
   "cell_type": "code",
   "execution_count": 38,
   "metadata": {},
   "outputs": [
    {
     "data": {
      "text/html": [
       "<div>\n",
       "<style scoped>\n",
       "    .dataframe tbody tr th:only-of-type {\n",
       "        vertical-align: middle;\n",
       "    }\n",
       "\n",
       "    .dataframe tbody tr th {\n",
       "        vertical-align: top;\n",
       "    }\n",
       "\n",
       "    .dataframe thead th {\n",
       "        text-align: right;\n",
       "    }\n",
       "</style>\n",
       "<table border=\"1\" class=\"dataframe\">\n",
       "  <thead>\n",
       "    <tr style=\"text-align: right;\">\n",
       "      <th></th>\n",
       "      <th>actual</th>\n",
       "      <th>lm1</th>\n",
       "      <th>lm2</th>\n",
       "      <th>baseline</th>\n",
       "    </tr>\n",
       "  </thead>\n",
       "  <tbody>\n",
       "    <tr>\n",
       "      <th>0</th>\n",
       "      <td>5212.65</td>\n",
       "      <td>5173.164121</td>\n",
       "      <td>4922.684960</td>\n",
       "      <td>3740.536907</td>\n",
       "    </tr>\n",
       "    <tr>\n",
       "      <th>1</th>\n",
       "      <td>1079.05</td>\n",
       "      <td>1159.860706</td>\n",
       "      <td>3528.922066</td>\n",
       "      <td>3740.536907</td>\n",
       "    </tr>\n",
       "    <tr>\n",
       "      <th>2</th>\n",
       "      <td>7108.20</td>\n",
       "      <td>7011.897800</td>\n",
       "      <td>4458.097328</td>\n",
       "      <td>3740.536907</td>\n",
       "    </tr>\n",
       "    <tr>\n",
       "      <th>3</th>\n",
       "      <td>6859.50</td>\n",
       "      <td>6567.278343</td>\n",
       "      <td>4922.684960</td>\n",
       "      <td>3740.536907</td>\n",
       "    </tr>\n",
       "    <tr>\n",
       "      <th>4</th>\n",
       "      <td>8564.75</td>\n",
       "      <td>7707.376200</td>\n",
       "      <td>5015.602486</td>\n",
       "      <td>3740.536907</td>\n",
       "    </tr>\n",
       "  </tbody>\n",
       "</table>\n",
       "</div>"
      ],
      "text/plain": [
       "    actual          lm1          lm2     baseline\n",
       "0  5212.65  5173.164121  4922.684960  3740.536907\n",
       "1  1079.05  1159.860706  3528.922066  3740.536907\n",
       "2  7108.20  7011.897800  4458.097328  3740.536907\n",
       "3  6859.50  6567.278343  4922.684960  3740.536907\n",
       "4  8564.75  7707.376200  5015.602486  3740.536907"
      ]
     },
     "execution_count": 38,
     "metadata": {},
     "output_type": "execute_result"
    }
   ],
   "source": [
    "# baseline model\n",
    "predictions['baseline'] = y_train.mean()[0]\n",
    "predictions.head()"
   ]
  },
  {
   "cell_type": "code",
   "execution_count": 39,
   "metadata": {},
   "outputs": [
    {
     "name": "stdout",
     "output_type": "stream",
     "text": [
      "[3740.53690653] [[2124.43276129  741.9671209 ]]\n"
     ]
    }
   ],
   "source": [
    "print(lm1.intercept_,lm1.coef_)"
   ]
  },
  {
   "cell_type": "markdown",
   "metadata": {},
   "source": [
    "### Evaluate the 2 models and your baseline."
   ]
  },
  {
   "cell_type": "code",
   "execution_count": 42,
   "metadata": {},
   "outputs": [
    {
     "name": "stdout",
     "output_type": "stream",
     "text": [
      "6608313.117141245 8908006081.906399 2570.6639448090536 2.220446049250313e-16\n"
     ]
    }
   ],
   "source": [
    "MSE_base = mean_squared_error(predictions.actual, predictions.baseline)\n",
    "SSE_base = MSE_base * len(predictions.actual)\n",
    "RMSE_base = sqrt(MSE_base)\n",
    "r2_base = r2_score(predictions.actual, predictions.baseline)\n",
    "print(MSE_base, SSE_base, RMSE_base, r2_base)"
   ]
  },
  {
   "cell_type": "code",
   "execution_count": 44,
   "metadata": {},
   "outputs": [
    {
     "name": "stdout",
     "output_type": "stream",
     "text": [
      "240622.9806357559 324359777.89699894 490.53336342776515 0.9635878360528035\n"
     ]
    }
   ],
   "source": [
    "MSE_1 = mean_squared_error(predictions.actual, predictions.lm1)\n",
    "SSE_1 = MSE_1 * len(predictions.actual)\n",
    "RMSE_1 = sqrt(MSE_1)\n",
    "r2_1 = r2_score(predictions.actual, predictions.lm1)\n",
    "print(MSE_1,SSE_1,RMSE_1,r2_1)"
   ]
  },
  {
   "cell_type": "code",
   "execution_count": 47,
   "metadata": {},
   "outputs": [
    {
     "name": "stdout",
     "output_type": "stream",
     "text": [
      "3981691.454452978 5367320080.602614 1995.4176140479913 0.3974723376643726\n"
     ]
    }
   ],
   "source": [
    "MSE_2 = mean_squared_error(predictions.actual, predictions.lm2)\n",
    "SSE_2 = MSE_2 * len(predictions.actual)\n",
    "RMSE_2 = sqrt(MSE_2)\n",
    "r2_2 = r2_score(predictions.actual, predictions.lm2)\n",
    "print(MSE_2,SSE_2,RMSE_2,r2_2)"
   ]
  },
  {
   "cell_type": "markdown",
   "metadata": {},
   "source": [
    "### Select the one that performed the best."
   ]
  },
  {
   "cell_type": "code",
   "execution_count": 48,
   "metadata": {},
   "outputs": [
    {
     "data": {
      "text/plain": [
       "LinearRegression(copy_X=True, fit_intercept=True, n_jobs=None, normalize=False)"
      ]
     },
     "execution_count": 48,
     "metadata": {},
     "output_type": "execute_result"
    }
   ],
   "source": [
    "lm1"
   ]
  },
  {
   "cell_type": "markdown",
   "metadata": {},
   "source": [
    "### Apply to your test data"
   ]
  },
  {
   "cell_type": "code",
   "execution_count": 50,
   "metadata": {},
   "outputs": [
    {
     "data": {
      "text/html": [
       "<div>\n",
       "<style scoped>\n",
       "    .dataframe tbody tr th:only-of-type {\n",
       "        vertical-align: middle;\n",
       "    }\n",
       "\n",
       "    .dataframe tbody tr th {\n",
       "        vertical-align: top;\n",
       "    }\n",
       "\n",
       "    .dataframe thead th {\n",
       "        text-align: right;\n",
       "    }\n",
       "</style>\n",
       "<table border=\"1\" class=\"dataframe\">\n",
       "  <thead>\n",
       "    <tr style=\"text-align: right;\">\n",
       "      <th></th>\n",
       "      <th>predictions</th>\n",
       "      <th>total_charges</th>\n",
       "    </tr>\n",
       "  </thead>\n",
       "  <tbody>\n",
       "    <tr>\n",
       "      <th>0</th>\n",
       "      <td>1895.246555</td>\n",
       "      <td>1502.25</td>\n",
       "    </tr>\n",
       "    <tr>\n",
       "      <th>1</th>\n",
       "      <td>7234.552129</td>\n",
       "      <td>7567.20</td>\n",
       "    </tr>\n",
       "    <tr>\n",
       "      <th>2</th>\n",
       "      <td>6935.992336</td>\n",
       "      <td>7049.75</td>\n",
       "    </tr>\n",
       "    <tr>\n",
       "      <th>3</th>\n",
       "      <td>1490.734855</td>\n",
       "      <td>1225.65</td>\n",
       "    </tr>\n",
       "    <tr>\n",
       "      <th>4</th>\n",
       "      <td>73.515425</td>\n",
       "      <td>587.40</td>\n",
       "    </tr>\n",
       "  </tbody>\n",
       "</table>\n",
       "</div>"
      ],
      "text/plain": [
       "   predictions  total_charges\n",
       "0  1895.246555        1502.25\n",
       "1  7234.552129        7567.20\n",
       "2  6935.992336        7049.75\n",
       "3  1490.734855        1225.65\n",
       "4    73.515425         587.40"
      ]
     },
     "execution_count": 50,
     "metadata": {},
     "output_type": "execute_result"
    }
   ],
   "source": [
    "model = lm1.predict(x_test[['monthly_charges', 'tenure']])\n",
    "model = model.ravel().reshape(337)\n",
    "y_test1 = np.array(y_test).ravel().reshape(337)\n",
    "best_model = pd.DataFrame({'predictions':model, 'total_charges':y_test1})\n",
    "best_model.head()"
   ]
  },
  {
   "cell_type": "markdown",
   "metadata": {},
   "source": [
    "### Write a function that creates the model object, fits and predicts, given X_train, X_test, y_train, y_test."
   ]
  },
  {
   "cell_type": "code",
   "execution_count": 56,
   "metadata": {},
   "outputs": [],
   "source": [
    "x_train1 = x_train[['monthly_charges', 'tenure']]\n",
    "x_test1 = x_test[['monthly_charges', 'tenure']]\n",
    "def modeling_function(x_train, x_test, y_train, y_test):\n",
    "    predictions_train = pd.DataFrame({'actual':y_train.total_charges}).reset_index(drop=True)\n",
    "    predictions_test = pd.DataFrame({'actual':y_test.total_charges}).reset_index(drop=True)\n",
    "    \n",
    "    # model 1\n",
    "    lm1 = LinearRegression()\n",
    "    lm1.fit(x_train, y_train)\n",
    "    lm1_predictions = lm1.predict(x_train)\n",
    "    predictions_train['lm1'] = lm1_predictions\n",
    "    \n",
    "    # model 2\n",
    "    lm2 = LinearRegression()\n",
    "    lm2.fit(x_test, y_test)\n",
    "    lm2_predictions = lm2.predict(x_test)\n",
    "    predictions_test['lm2'] = lm2_predictions\n",
    "    \n",
    "    return predictions_train, predictions_test\n"
   ]
  },
  {
   "cell_type": "code",
   "execution_count": 60,
   "metadata": {},
   "outputs": [
    {
     "data": {
      "text/html": [
       "<div>\n",
       "<style scoped>\n",
       "    .dataframe tbody tr th:only-of-type {\n",
       "        vertical-align: middle;\n",
       "    }\n",
       "\n",
       "    .dataframe tbody tr th {\n",
       "        vertical-align: top;\n",
       "    }\n",
       "\n",
       "    .dataframe thead th {\n",
       "        text-align: right;\n",
       "    }\n",
       "</style>\n",
       "<table border=\"1\" class=\"dataframe\">\n",
       "  <thead>\n",
       "    <tr style=\"text-align: right;\">\n",
       "      <th></th>\n",
       "      <th>actual</th>\n",
       "      <th>lm2</th>\n",
       "    </tr>\n",
       "  </thead>\n",
       "  <tbody>\n",
       "    <tr>\n",
       "      <th>0</th>\n",
       "      <td>1502.25</td>\n",
       "      <td>1859.384825</td>\n",
       "    </tr>\n",
       "    <tr>\n",
       "      <th>1</th>\n",
       "      <td>7567.20</td>\n",
       "      <td>7205.810102</td>\n",
       "    </tr>\n",
       "    <tr>\n",
       "      <th>2</th>\n",
       "      <td>7049.75</td>\n",
       "      <td>6917.225703</td>\n",
       "    </tr>\n",
       "    <tr>\n",
       "      <th>3</th>\n",
       "      <td>1225.65</td>\n",
       "      <td>1474.643543</td>\n",
       "    </tr>\n",
       "    <tr>\n",
       "      <th>4</th>\n",
       "      <td>587.40</td>\n",
       "      <td>155.709325</td>\n",
       "    </tr>\n",
       "  </tbody>\n",
       "</table>\n",
       "</div>"
      ],
      "text/plain": [
       "    actual          lm2\n",
       "0  1502.25  1859.384825\n",
       "1  7567.20  7205.810102\n",
       "2  7049.75  6917.225703\n",
       "3  1225.65  1474.643543\n",
       "4   587.40   155.709325"
      ]
     },
     "execution_count": 60,
     "metadata": {},
     "output_type": "execute_result"
    }
   ],
   "source": [
    "model_train, model_test = modeling_function(x_train, x_test, y_train, y_test)\n",
    "model_train.head()\n",
    "model_test.head()"
   ]
  },
  {
   "cell_type": "markdown",
   "metadata": {},
   "source": [
    "### Write a function, plot_residuals(x, y, dataframe) that takes the feature, the target, and the dataframe as input and returns a residual plot."
   ]
  },
  {
   "cell_type": "code",
   "execution_count": 61,
   "metadata": {},
   "outputs": [
    {
     "data": {
      "text/plain": [
       "<matplotlib.axes._subplots.AxesSubplot at 0x1c1a54e6a0>"
      ]
     },
     "execution_count": 61,
     "metadata": {},
     "output_type": "execute_result"
    },
    {
     "data": {
      "image/png": "[encoded data removed]",
      "text/plain": [
       "<Figure size 432x288 with 1 Axes>"
      ]
     },
     "metadata": {
      "needs_background": "light"
     },
     "output_type": "display_data"
    }
   ],
   "source": [
    "def plot_residuals(x, y):\n",
    "    '''\n",
    "    Plots the residuals of a model that uses x to predict y. Note that we don't\n",
    "    need to make any predictions ourselves here, seaborn will create the model\n",
    "    and predictions for us under the hood with the `residplot` function.\n",
    "    '''\n",
    "    return sns.residplot(x, y)\n",
    "\n",
    "x=test[['monthly_charges']]\n",
    "y=test[['total_charges']]\n",
    "plot_residuals(x,y)"
   ]
  },
  {
   "cell_type": "markdown",
   "metadata": {},
   "source": [
    "### Write a function, plot_regression(x, y) that takes a feature and a target and returns the datapoints, the regression line, and the confidence interval."
   ]
  },
  {
   "cell_type": "code",
   "execution_count": null,
   "metadata": {},
   "outputs": [],
   "source": []
  }
 ],
 "metadata": {
  "kernelspec": {
   "display_name": "Python 3",
   "language": "python",
   "name": "python3"
  },
  "language_info": {
   "codemirror_mode": {
    "name": "ipython",
    "version": 3
   },
   "file_extension": ".py",
   "mimetype": "text/x-python",
   "name": "python",
   "nbconvert_exporter": "python",
   "pygments_lexer": "ipython3",
   "version": "3.7.3"
  }
 },
 "nbformat": 4,
 "nbformat_minor": 2
}
